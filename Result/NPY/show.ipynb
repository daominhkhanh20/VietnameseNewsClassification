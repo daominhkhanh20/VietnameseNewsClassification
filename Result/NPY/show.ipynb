{
 "metadata": {
  "language_info": {
   "codemirror_mode": {
    "name": "ipython",
    "version": 3
   },
   "file_extension": ".py",
   "mimetype": "text/x-python",
   "name": "python",
   "nbconvert_exporter": "python",
   "pygments_lexer": "ipython3",
   "version": "3.7.4"
  },
  "orig_nbformat": 4,
  "kernelspec": {
   "name": "python3",
   "display_name": "Python 3.7.4 64-bit ('base': conda)"
  },
  "interpreter": {
   "hash": "1cdd1779b5cd8578232a61d1a4f8a43a815c24f9b76d02f912e24226309d4f58"
  }
 },
 "nbformat": 4,
 "nbformat_minor": 2,
 "cells": [
  {
   "cell_type": "code",
   "execution_count": 6,
   "metadata": {},
   "outputs": [],
   "source": [
    "import numpy as np\n",
    "from sklearn.metrics import accuracy_score,recall_score,precision_score\n",
    "def show(true,preds):\n",
    "    print(\"Acc:\",accuracy_score(true,preds))\n",
    "    print(\"Recall:\",recall_score(true,preds,average='weighted'))\n",
    "    print(\"Precision:\",precision_score(true,preds,average='weighted'))\n",
    "\n",
    "y_true=np.load('true.npy')\n",
    "navie=np.load('naive.npy')\n",
    "lstm=np.load('lstm.npy')\n",
    "bert=np.load('bert.npy')"
   ]
  },
  {
   "cell_type": "code",
   "execution_count": 7,
   "metadata": {},
   "outputs": [
    {
     "output_type": "stream",
     "name": "stdout",
     "text": [
      "Acc: 0.9000853631905982\nRecall: 0.9000853631905982\nPrecision: 0.9034347597670157\n"
     ]
    }
   ],
   "source": [
    "show(y_true,navie)"
   ]
  },
  {
   "cell_type": "code",
   "execution_count": 8,
   "metadata": {},
   "outputs": [
    {
     "output_type": "stream",
     "name": "stdout",
     "text": [
      "Acc: 0.9041947074821829\nRecall: 0.9041947074821829\nPrecision: 0.9034186194425473\n"
     ]
    }
   ],
   "source": [
    "show(y_true,lstm)"
   ]
  },
  {
   "cell_type": "code",
   "execution_count": 9,
   "metadata": {},
   "outputs": [
    {
     "output_type": "stream",
     "name": "stdout",
     "text": [
      "Acc: 0.9122148770174499\nRecall: 0.9122148770174499\nPrecision: 0.9119381121434791\n"
     ]
    }
   ],
   "source": [
    "show(y_true,bert)"
   ]
  },
  {
   "cell_type": "code",
   "execution_count": null,
   "metadata": {},
   "outputs": [],
   "source": []
  }
 ]
}