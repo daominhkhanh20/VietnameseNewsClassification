{
  "nbformat": 4,
  "nbformat_minor": 0,
  "metadata": {
    "colab": {
      "name": "BERT_VN.ipynb",
      "provenance": [],
      "collapsed_sections": []
    },
    "kernelspec": {
      "name": "python3",
      "display_name": "Python 3"
    },
    "language_info": {
      "name": "python"
    },
    "accelerator": "GPU",
    "widgets": {
      "application/vnd.jupyter.widget-state+json": {
        "f828f62ba1ba4df0aa9befc44fe98458": {
          "model_module": "@jupyter-widgets/controls",
          "model_name": "HBoxModel",
          "state": {
            "_view_name": "HBoxView",
            "_dom_classes": [],
            "_model_name": "HBoxModel",
            "_view_module": "@jupyter-widgets/controls",
            "_model_module_version": "1.5.0",
            "_view_count": null,
            "_view_module_version": "1.5.0",
            "box_style": "",
            "layout": "IPY_MODEL_d61ffaea0c7e456c96c74bc3b447bee7",
            "_model_module": "@jupyter-widgets/controls",
            "children": [
              "IPY_MODEL_224889f32b0f42b58fb630cd79d09b61",
              "IPY_MODEL_3121bfbd008d4d3bb89283e7b79dce24"
            ]
          }
        },
        "d61ffaea0c7e456c96c74bc3b447bee7": {
          "model_module": "@jupyter-widgets/base",
          "model_name": "LayoutModel",
          "state": {
            "_view_name": "LayoutView",
            "grid_template_rows": null,
            "right": null,
            "justify_content": null,
            "_view_module": "@jupyter-widgets/base",
            "overflow": null,
            "_model_module_version": "1.2.0",
            "_view_count": null,
            "flex_flow": null,
            "width": null,
            "min_width": null,
            "border": null,
            "align_items": null,
            "bottom": null,
            "_model_module": "@jupyter-widgets/base",
            "top": null,
            "grid_column": null,
            "overflow_y": null,
            "overflow_x": null,
            "grid_auto_flow": null,
            "grid_area": null,
            "grid_template_columns": null,
            "flex": null,
            "_model_name": "LayoutModel",
            "justify_items": null,
            "grid_row": null,
            "max_height": null,
            "align_content": null,
            "visibility": null,
            "align_self": null,
            "height": null,
            "min_height": null,
            "padding": null,
            "grid_auto_rows": null,
            "grid_gap": null,
            "max_width": null,
            "order": null,
            "_view_module_version": "1.2.0",
            "grid_template_areas": null,
            "object_position": null,
            "object_fit": null,
            "grid_auto_columns": null,
            "margin": null,
            "display": null,
            "left": null
          }
        },
        "224889f32b0f42b58fb630cd79d09b61": {
          "model_module": "@jupyter-widgets/controls",
          "model_name": "FloatProgressModel",
          "state": {
            "_view_name": "ProgressView",
            "style": "IPY_MODEL_b4604296f791451d90be78c27d0adc3d",
            "_dom_classes": [],
            "description": "Downloading: 100%",
            "_model_name": "FloatProgressModel",
            "bar_style": "success",
            "max": 557,
            "_view_module": "@jupyter-widgets/controls",
            "_model_module_version": "1.5.0",
            "value": 557,
            "_view_count": null,
            "_view_module_version": "1.5.0",
            "orientation": "horizontal",
            "min": 0,
            "description_tooltip": null,
            "_model_module": "@jupyter-widgets/controls",
            "layout": "IPY_MODEL_ffcc69eaf9a74548b32d2cf02bb66d5e"
          }
        },
        "3121bfbd008d4d3bb89283e7b79dce24": {
          "model_module": "@jupyter-widgets/controls",
          "model_name": "HTMLModel",
          "state": {
            "_view_name": "HTMLView",
            "style": "IPY_MODEL_cab8e667c3da4b2c9aa6d931fc08c0a7",
            "_dom_classes": [],
            "description": "",
            "_model_name": "HTMLModel",
            "placeholder": "​",
            "_view_module": "@jupyter-widgets/controls",
            "_model_module_version": "1.5.0",
            "value": " 557/557 [00:12&lt;00:00, 45.4B/s]",
            "_view_count": null,
            "_view_module_version": "1.5.0",
            "description_tooltip": null,
            "_model_module": "@jupyter-widgets/controls",
            "layout": "IPY_MODEL_87033805577641359026cc5a41c3b7f5"
          }
        },
        "b4604296f791451d90be78c27d0adc3d": {
          "model_module": "@jupyter-widgets/controls",
          "model_name": "ProgressStyleModel",
          "state": {
            "_view_name": "StyleView",
            "_model_name": "ProgressStyleModel",
            "description_width": "initial",
            "_view_module": "@jupyter-widgets/base",
            "_model_module_version": "1.5.0",
            "_view_count": null,
            "_view_module_version": "1.2.0",
            "bar_color": null,
            "_model_module": "@jupyter-widgets/controls"
          }
        },
        "ffcc69eaf9a74548b32d2cf02bb66d5e": {
          "model_module": "@jupyter-widgets/base",
          "model_name": "LayoutModel",
          "state": {
            "_view_name": "LayoutView",
            "grid_template_rows": null,
            "right": null,
            "justify_content": null,
            "_view_module": "@jupyter-widgets/base",
            "overflow": null,
            "_model_module_version": "1.2.0",
            "_view_count": null,
            "flex_flow": null,
            "width": null,
            "min_width": null,
            "border": null,
            "align_items": null,
            "bottom": null,
            "_model_module": "@jupyter-widgets/base",
            "top": null,
            "grid_column": null,
            "overflow_y": null,
            "overflow_x": null,
            "grid_auto_flow": null,
            "grid_area": null,
            "grid_template_columns": null,
            "flex": null,
            "_model_name": "LayoutModel",
            "justify_items": null,
            "grid_row": null,
            "max_height": null,
            "align_content": null,
            "visibility": null,
            "align_self": null,
            "height": null,
            "min_height": null,
            "padding": null,
            "grid_auto_rows": null,
            "grid_gap": null,
            "max_width": null,
            "order": null,
            "_view_module_version": "1.2.0",
            "grid_template_areas": null,
            "object_position": null,
            "object_fit": null,
            "grid_auto_columns": null,
            "margin": null,
            "display": null,
            "left": null
          }
        },
        "cab8e667c3da4b2c9aa6d931fc08c0a7": {
          "model_module": "@jupyter-widgets/controls",
          "model_name": "DescriptionStyleModel",
          "state": {
            "_view_name": "StyleView",
            "_model_name": "DescriptionStyleModel",
            "description_width": "",
            "_view_module": "@jupyter-widgets/base",
            "_model_module_version": "1.5.0",
            "_view_count": null,
            "_view_module_version": "1.2.0",
            "_model_module": "@jupyter-widgets/controls"
          }
        },
        "87033805577641359026cc5a41c3b7f5": {
          "model_module": "@jupyter-widgets/base",
          "model_name": "LayoutModel",
          "state": {
            "_view_name": "LayoutView",
            "grid_template_rows": null,
            "right": null,
            "justify_content": null,
            "_view_module": "@jupyter-widgets/base",
            "overflow": null,
            "_model_module_version": "1.2.0",
            "_view_count": null,
            "flex_flow": null,
            "width": null,
            "min_width": null,
            "border": null,
            "align_items": null,
            "bottom": null,
            "_model_module": "@jupyter-widgets/base",
            "top": null,
            "grid_column": null,
            "overflow_y": null,
            "overflow_x": null,
            "grid_auto_flow": null,
            "grid_area": null,
            "grid_template_columns": null,
            "flex": null,
            "_model_name": "LayoutModel",
            "justify_items": null,
            "grid_row": null,
            "max_height": null,
            "align_content": null,
            "visibility": null,
            "align_self": null,
            "height": null,
            "min_height": null,
            "padding": null,
            "grid_auto_rows": null,
            "grid_gap": null,
            "max_width": null,
            "order": null,
            "_view_module_version": "1.2.0",
            "grid_template_areas": null,
            "object_position": null,
            "object_fit": null,
            "grid_auto_columns": null,
            "margin": null,
            "display": null,
            "left": null
          }
        },
        "80850b81fc714498a736810e690a7329": {
          "model_module": "@jupyter-widgets/controls",
          "model_name": "HBoxModel",
          "state": {
            "_view_name": "HBoxView",
            "_dom_classes": [],
            "_model_name": "HBoxModel",
            "_view_module": "@jupyter-widgets/controls",
            "_model_module_version": "1.5.0",
            "_view_count": null,
            "_view_module_version": "1.5.0",
            "box_style": "",
            "layout": "IPY_MODEL_da5ac2d2836c4453895a3b817492d2c1",
            "_model_module": "@jupyter-widgets/controls",
            "children": [
              "IPY_MODEL_e1af0737086b4d3a88857d5c024a469d",
              "IPY_MODEL_2227e8195ff5431a9dcd23794afb81fd"
            ]
          }
        },
        "da5ac2d2836c4453895a3b817492d2c1": {
          "model_module": "@jupyter-widgets/base",
          "model_name": "LayoutModel",
          "state": {
            "_view_name": "LayoutView",
            "grid_template_rows": null,
            "right": null,
            "justify_content": null,
            "_view_module": "@jupyter-widgets/base",
            "overflow": null,
            "_model_module_version": "1.2.0",
            "_view_count": null,
            "flex_flow": null,
            "width": null,
            "min_width": null,
            "border": null,
            "align_items": null,
            "bottom": null,
            "_model_module": "@jupyter-widgets/base",
            "top": null,
            "grid_column": null,
            "overflow_y": null,
            "overflow_x": null,
            "grid_auto_flow": null,
            "grid_area": null,
            "grid_template_columns": null,
            "flex": null,
            "_model_name": "LayoutModel",
            "justify_items": null,
            "grid_row": null,
            "max_height": null,
            "align_content": null,
            "visibility": null,
            "align_self": null,
            "height": null,
            "min_height": null,
            "padding": null,
            "grid_auto_rows": null,
            "grid_gap": null,
            "max_width": null,
            "order": null,
            "_view_module_version": "1.2.0",
            "grid_template_areas": null,
            "object_position": null,
            "object_fit": null,
            "grid_auto_columns": null,
            "margin": null,
            "display": null,
            "left": null
          }
        },
        "e1af0737086b4d3a88857d5c024a469d": {
          "model_module": "@jupyter-widgets/controls",
          "model_name": "FloatProgressModel",
          "state": {
            "_view_name": "ProgressView",
            "style": "IPY_MODEL_58da65d1108345cea58d047540a22fea",
            "_dom_classes": [],
            "description": "Downloading: 100%",
            "_model_name": "FloatProgressModel",
            "bar_style": "success",
            "max": 542923308,
            "_view_module": "@jupyter-widgets/controls",
            "_model_module_version": "1.5.0",
            "value": 542923308,
            "_view_count": null,
            "_view_module_version": "1.5.0",
            "orientation": "horizontal",
            "min": 0,
            "description_tooltip": null,
            "_model_module": "@jupyter-widgets/controls",
            "layout": "IPY_MODEL_9b4759f9039e486ebce45b258cdfd968"
          }
        },
        "2227e8195ff5431a9dcd23794afb81fd": {
          "model_module": "@jupyter-widgets/controls",
          "model_name": "HTMLModel",
          "state": {
            "_view_name": "HTMLView",
            "style": "IPY_MODEL_cf52a5a30f714157a8cae5cc31390b38",
            "_dom_classes": [],
            "description": "",
            "_model_name": "HTMLModel",
            "placeholder": "​",
            "_view_module": "@jupyter-widgets/controls",
            "_model_module_version": "1.5.0",
            "value": " 543M/543M [00:12&lt;00:00, 44.9MB/s]",
            "_view_count": null,
            "_view_module_version": "1.5.0",
            "description_tooltip": null,
            "_model_module": "@jupyter-widgets/controls",
            "layout": "IPY_MODEL_f8ce6925fe86409eb3fb99fc43698893"
          }
        },
        "58da65d1108345cea58d047540a22fea": {
          "model_module": "@jupyter-widgets/controls",
          "model_name": "ProgressStyleModel",
          "state": {
            "_view_name": "StyleView",
            "_model_name": "ProgressStyleModel",
            "description_width": "initial",
            "_view_module": "@jupyter-widgets/base",
            "_model_module_version": "1.5.0",
            "_view_count": null,
            "_view_module_version": "1.2.0",
            "bar_color": null,
            "_model_module": "@jupyter-widgets/controls"
          }
        },
        "9b4759f9039e486ebce45b258cdfd968": {
          "model_module": "@jupyter-widgets/base",
          "model_name": "LayoutModel",
          "state": {
            "_view_name": "LayoutView",
            "grid_template_rows": null,
            "right": null,
            "justify_content": null,
            "_view_module": "@jupyter-widgets/base",
            "overflow": null,
            "_model_module_version": "1.2.0",
            "_view_count": null,
            "flex_flow": null,
            "width": null,
            "min_width": null,
            "border": null,
            "align_items": null,
            "bottom": null,
            "_model_module": "@jupyter-widgets/base",
            "top": null,
            "grid_column": null,
            "overflow_y": null,
            "overflow_x": null,
            "grid_auto_flow": null,
            "grid_area": null,
            "grid_template_columns": null,
            "flex": null,
            "_model_name": "LayoutModel",
            "justify_items": null,
            "grid_row": null,
            "max_height": null,
            "align_content": null,
            "visibility": null,
            "align_self": null,
            "height": null,
            "min_height": null,
            "padding": null,
            "grid_auto_rows": null,
            "grid_gap": null,
            "max_width": null,
            "order": null,
            "_view_module_version": "1.2.0",
            "grid_template_areas": null,
            "object_position": null,
            "object_fit": null,
            "grid_auto_columns": null,
            "margin": null,
            "display": null,
            "left": null
          }
        },
        "cf52a5a30f714157a8cae5cc31390b38": {
          "model_module": "@jupyter-widgets/controls",
          "model_name": "DescriptionStyleModel",
          "state": {
            "_view_name": "StyleView",
            "_model_name": "DescriptionStyleModel",
            "description_width": "",
            "_view_module": "@jupyter-widgets/base",
            "_model_module_version": "1.5.0",
            "_view_count": null,
            "_view_module_version": "1.2.0",
            "_model_module": "@jupyter-widgets/controls"
          }
        },
        "f8ce6925fe86409eb3fb99fc43698893": {
          "model_module": "@jupyter-widgets/base",
          "model_name": "LayoutModel",
          "state": {
            "_view_name": "LayoutView",
            "grid_template_rows": null,
            "right": null,
            "justify_content": null,
            "_view_module": "@jupyter-widgets/base",
            "overflow": null,
            "_model_module_version": "1.2.0",
            "_view_count": null,
            "flex_flow": null,
            "width": null,
            "min_width": null,
            "border": null,
            "align_items": null,
            "bottom": null,
            "_model_module": "@jupyter-widgets/base",
            "top": null,
            "grid_column": null,
            "overflow_y": null,
            "overflow_x": null,
            "grid_auto_flow": null,
            "grid_area": null,
            "grid_template_columns": null,
            "flex": null,
            "_model_name": "LayoutModel",
            "justify_items": null,
            "grid_row": null,
            "max_height": null,
            "align_content": null,
            "visibility": null,
            "align_self": null,
            "height": null,
            "min_height": null,
            "padding": null,
            "grid_auto_rows": null,
            "grid_gap": null,
            "max_width": null,
            "order": null,
            "_view_module_version": "1.2.0",
            "grid_template_areas": null,
            "object_position": null,
            "object_fit": null,
            "grid_auto_columns": null,
            "margin": null,
            "display": null,
            "left": null
          }
        },
        "8f45b754b27549a4b115815fd6bc10f7": {
          "model_module": "@jupyter-widgets/controls",
          "model_name": "HBoxModel",
          "state": {
            "_view_name": "HBoxView",
            "_dom_classes": [],
            "_model_name": "HBoxModel",
            "_view_module": "@jupyter-widgets/controls",
            "_model_module_version": "1.5.0",
            "_view_count": null,
            "_view_module_version": "1.5.0",
            "box_style": "",
            "layout": "IPY_MODEL_3f32bc96a89f46eea1cec94d8f7cee83",
            "_model_module": "@jupyter-widgets/controls",
            "children": [
              "IPY_MODEL_7b79832319ec4266b5dd006e7fc845c0",
              "IPY_MODEL_8d7dc4fe48d744e7abc32eb9b3016f8e"
            ]
          }
        },
        "3f32bc96a89f46eea1cec94d8f7cee83": {
          "model_module": "@jupyter-widgets/base",
          "model_name": "LayoutModel",
          "state": {
            "_view_name": "LayoutView",
            "grid_template_rows": null,
            "right": null,
            "justify_content": null,
            "_view_module": "@jupyter-widgets/base",
            "overflow": null,
            "_model_module_version": "1.2.0",
            "_view_count": null,
            "flex_flow": null,
            "width": null,
            "min_width": null,
            "border": null,
            "align_items": null,
            "bottom": null,
            "_model_module": "@jupyter-widgets/base",
            "top": null,
            "grid_column": null,
            "overflow_y": null,
            "overflow_x": null,
            "grid_auto_flow": null,
            "grid_area": null,
            "grid_template_columns": null,
            "flex": null,
            "_model_name": "LayoutModel",
            "justify_items": null,
            "grid_row": null,
            "max_height": null,
            "align_content": null,
            "visibility": null,
            "align_self": null,
            "height": null,
            "min_height": null,
            "padding": null,
            "grid_auto_rows": null,
            "grid_gap": null,
            "max_width": null,
            "order": null,
            "_view_module_version": "1.2.0",
            "grid_template_areas": null,
            "object_position": null,
            "object_fit": null,
            "grid_auto_columns": null,
            "margin": null,
            "display": null,
            "left": null
          }
        },
        "7b79832319ec4266b5dd006e7fc845c0": {
          "model_module": "@jupyter-widgets/controls",
          "model_name": "FloatProgressModel",
          "state": {
            "_view_name": "ProgressView",
            "style": "IPY_MODEL_49de2b5db2214445b45a451a66aa6c9f",
            "_dom_classes": [],
            "description": "Downloading: 100%",
            "_model_name": "FloatProgressModel",
            "bar_style": "success",
            "max": 895321,
            "_view_module": "@jupyter-widgets/controls",
            "_model_module_version": "1.5.0",
            "value": 895321,
            "_view_count": null,
            "_view_module_version": "1.5.0",
            "orientation": "horizontal",
            "min": 0,
            "description_tooltip": null,
            "_model_module": "@jupyter-widgets/controls",
            "layout": "IPY_MODEL_db40273d1226439bbb64b45e19239751"
          }
        },
        "8d7dc4fe48d744e7abc32eb9b3016f8e": {
          "model_module": "@jupyter-widgets/controls",
          "model_name": "HTMLModel",
          "state": {
            "_view_name": "HTMLView",
            "style": "IPY_MODEL_4112d1c1483a40bea75ad907b370d55f",
            "_dom_classes": [],
            "description": "",
            "_model_name": "HTMLModel",
            "placeholder": "​",
            "_view_module": "@jupyter-widgets/controls",
            "_model_module_version": "1.5.0",
            "value": " 895k/895k [00:00&lt;00:00, 6.48MB/s]",
            "_view_count": null,
            "_view_module_version": "1.5.0",
            "description_tooltip": null,
            "_model_module": "@jupyter-widgets/controls",
            "layout": "IPY_MODEL_746287ef281b4daa822b8ec9faf35001"
          }
        },
        "49de2b5db2214445b45a451a66aa6c9f": {
          "model_module": "@jupyter-widgets/controls",
          "model_name": "ProgressStyleModel",
          "state": {
            "_view_name": "StyleView",
            "_model_name": "ProgressStyleModel",
            "description_width": "initial",
            "_view_module": "@jupyter-widgets/base",
            "_model_module_version": "1.5.0",
            "_view_count": null,
            "_view_module_version": "1.2.0",
            "bar_color": null,
            "_model_module": "@jupyter-widgets/controls"
          }
        },
        "db40273d1226439bbb64b45e19239751": {
          "model_module": "@jupyter-widgets/base",
          "model_name": "LayoutModel",
          "state": {
            "_view_name": "LayoutView",
            "grid_template_rows": null,
            "right": null,
            "justify_content": null,
            "_view_module": "@jupyter-widgets/base",
            "overflow": null,
            "_model_module_version": "1.2.0",
            "_view_count": null,
            "flex_flow": null,
            "width": null,
            "min_width": null,
            "border": null,
            "align_items": null,
            "bottom": null,
            "_model_module": "@jupyter-widgets/base",
            "top": null,
            "grid_column": null,
            "overflow_y": null,
            "overflow_x": null,
            "grid_auto_flow": null,
            "grid_area": null,
            "grid_template_columns": null,
            "flex": null,
            "_model_name": "LayoutModel",
            "justify_items": null,
            "grid_row": null,
            "max_height": null,
            "align_content": null,
            "visibility": null,
            "align_self": null,
            "height": null,
            "min_height": null,
            "padding": null,
            "grid_auto_rows": null,
            "grid_gap": null,
            "max_width": null,
            "order": null,
            "_view_module_version": "1.2.0",
            "grid_template_areas": null,
            "object_position": null,
            "object_fit": null,
            "grid_auto_columns": null,
            "margin": null,
            "display": null,
            "left": null
          }
        },
        "4112d1c1483a40bea75ad907b370d55f": {
          "model_module": "@jupyter-widgets/controls",
          "model_name": "DescriptionStyleModel",
          "state": {
            "_view_name": "StyleView",
            "_model_name": "DescriptionStyleModel",
            "description_width": "",
            "_view_module": "@jupyter-widgets/base",
            "_model_module_version": "1.5.0",
            "_view_count": null,
            "_view_module_version": "1.2.0",
            "_model_module": "@jupyter-widgets/controls"
          }
        },
        "746287ef281b4daa822b8ec9faf35001": {
          "model_module": "@jupyter-widgets/base",
          "model_name": "LayoutModel",
          "state": {
            "_view_name": "LayoutView",
            "grid_template_rows": null,
            "right": null,
            "justify_content": null,
            "_view_module": "@jupyter-widgets/base",
            "overflow": null,
            "_model_module_version": "1.2.0",
            "_view_count": null,
            "flex_flow": null,
            "width": null,
            "min_width": null,
            "border": null,
            "align_items": null,
            "bottom": null,
            "_model_module": "@jupyter-widgets/base",
            "top": null,
            "grid_column": null,
            "overflow_y": null,
            "overflow_x": null,
            "grid_auto_flow": null,
            "grid_area": null,
            "grid_template_columns": null,
            "flex": null,
            "_model_name": "LayoutModel",
            "justify_items": null,
            "grid_row": null,
            "max_height": null,
            "align_content": null,
            "visibility": null,
            "align_self": null,
            "height": null,
            "min_height": null,
            "padding": null,
            "grid_auto_rows": null,
            "grid_gap": null,
            "max_width": null,
            "order": null,
            "_view_module_version": "1.2.0",
            "grid_template_areas": null,
            "object_position": null,
            "object_fit": null,
            "grid_auto_columns": null,
            "margin": null,
            "display": null,
            "left": null
          }
        },
        "c078e413bead457ab1db57fb2c4250a3": {
          "model_module": "@jupyter-widgets/controls",
          "model_name": "HBoxModel",
          "state": {
            "_view_name": "HBoxView",
            "_dom_classes": [],
            "_model_name": "HBoxModel",
            "_view_module": "@jupyter-widgets/controls",
            "_model_module_version": "1.5.0",
            "_view_count": null,
            "_view_module_version": "1.5.0",
            "box_style": "",
            "layout": "IPY_MODEL_554d56498110426fa6caf41c0452305d",
            "_model_module": "@jupyter-widgets/controls",
            "children": [
              "IPY_MODEL_6f86e91cf26349369efa2d39604a32d2",
              "IPY_MODEL_3fc47752d43a4a44be1468f6b61a7eaa"
            ]
          }
        },
        "554d56498110426fa6caf41c0452305d": {
          "model_module": "@jupyter-widgets/base",
          "model_name": "LayoutModel",
          "state": {
            "_view_name": "LayoutView",
            "grid_template_rows": null,
            "right": null,
            "justify_content": null,
            "_view_module": "@jupyter-widgets/base",
            "overflow": null,
            "_model_module_version": "1.2.0",
            "_view_count": null,
            "flex_flow": null,
            "width": null,
            "min_width": null,
            "border": null,
            "align_items": null,
            "bottom": null,
            "_model_module": "@jupyter-widgets/base",
            "top": null,
            "grid_column": null,
            "overflow_y": null,
            "overflow_x": null,
            "grid_auto_flow": null,
            "grid_area": null,
            "grid_template_columns": null,
            "flex": null,
            "_model_name": "LayoutModel",
            "justify_items": null,
            "grid_row": null,
            "max_height": null,
            "align_content": null,
            "visibility": null,
            "align_self": null,
            "height": null,
            "min_height": null,
            "padding": null,
            "grid_auto_rows": null,
            "grid_gap": null,
            "max_width": null,
            "order": null,
            "_view_module_version": "1.2.0",
            "grid_template_areas": null,
            "object_position": null,
            "object_fit": null,
            "grid_auto_columns": null,
            "margin": null,
            "display": null,
            "left": null
          }
        },
        "6f86e91cf26349369efa2d39604a32d2": {
          "model_module": "@jupyter-widgets/controls",
          "model_name": "FloatProgressModel",
          "state": {
            "_view_name": "ProgressView",
            "style": "IPY_MODEL_f3b567960e484733b5161bf475aa5be5",
            "_dom_classes": [],
            "description": "Downloading: 100%",
            "_model_name": "FloatProgressModel",
            "bar_style": "success",
            "max": 1135173,
            "_view_module": "@jupyter-widgets/controls",
            "_model_module_version": "1.5.0",
            "value": 1135173,
            "_view_count": null,
            "_view_module_version": "1.5.0",
            "orientation": "horizontal",
            "min": 0,
            "description_tooltip": null,
            "_model_module": "@jupyter-widgets/controls",
            "layout": "IPY_MODEL_e18c90532f2543a8bd71a42219b117d1"
          }
        },
        "3fc47752d43a4a44be1468f6b61a7eaa": {
          "model_module": "@jupyter-widgets/controls",
          "model_name": "HTMLModel",
          "state": {
            "_view_name": "HTMLView",
            "style": "IPY_MODEL_845dd740dca2441592fecaeea615d180",
            "_dom_classes": [],
            "description": "",
            "_model_name": "HTMLModel",
            "placeholder": "​",
            "_view_module": "@jupyter-widgets/controls",
            "_model_module_version": "1.5.0",
            "value": " 1.14M/1.14M [00:00&lt;00:00, 3.62MB/s]",
            "_view_count": null,
            "_view_module_version": "1.5.0",
            "description_tooltip": null,
            "_model_module": "@jupyter-widgets/controls",
            "layout": "IPY_MODEL_bbe9662e4dc14f959d6d0cc88d3e0d7e"
          }
        },
        "f3b567960e484733b5161bf475aa5be5": {
          "model_module": "@jupyter-widgets/controls",
          "model_name": "ProgressStyleModel",
          "state": {
            "_view_name": "StyleView",
            "_model_name": "ProgressStyleModel",
            "description_width": "initial",
            "_view_module": "@jupyter-widgets/base",
            "_model_module_version": "1.5.0",
            "_view_count": null,
            "_view_module_version": "1.2.0",
            "bar_color": null,
            "_model_module": "@jupyter-widgets/controls"
          }
        },
        "e18c90532f2543a8bd71a42219b117d1": {
          "model_module": "@jupyter-widgets/base",
          "model_name": "LayoutModel",
          "state": {
            "_view_name": "LayoutView",
            "grid_template_rows": null,
            "right": null,
            "justify_content": null,
            "_view_module": "@jupyter-widgets/base",
            "overflow": null,
            "_model_module_version": "1.2.0",
            "_view_count": null,
            "flex_flow": null,
            "width": null,
            "min_width": null,
            "border": null,
            "align_items": null,
            "bottom": null,
            "_model_module": "@jupyter-widgets/base",
            "top": null,
            "grid_column": null,
            "overflow_y": null,
            "overflow_x": null,
            "grid_auto_flow": null,
            "grid_area": null,
            "grid_template_columns": null,
            "flex": null,
            "_model_name": "LayoutModel",
            "justify_items": null,
            "grid_row": null,
            "max_height": null,
            "align_content": null,
            "visibility": null,
            "align_self": null,
            "height": null,
            "min_height": null,
            "padding": null,
            "grid_auto_rows": null,
            "grid_gap": null,
            "max_width": null,
            "order": null,
            "_view_module_version": "1.2.0",
            "grid_template_areas": null,
            "object_position": null,
            "object_fit": null,
            "grid_auto_columns": null,
            "margin": null,
            "display": null,
            "left": null
          }
        },
        "845dd740dca2441592fecaeea615d180": {
          "model_module": "@jupyter-widgets/controls",
          "model_name": "DescriptionStyleModel",
          "state": {
            "_view_name": "StyleView",
            "_model_name": "DescriptionStyleModel",
            "description_width": "",
            "_view_module": "@jupyter-widgets/base",
            "_model_module_version": "1.5.0",
            "_view_count": null,
            "_view_module_version": "1.2.0",
            "_model_module": "@jupyter-widgets/controls"
          }
        },
        "bbe9662e4dc14f959d6d0cc88d3e0d7e": {
          "model_module": "@jupyter-widgets/base",
          "model_name": "LayoutModel",
          "state": {
            "_view_name": "LayoutView",
            "grid_template_rows": null,
            "right": null,
            "justify_content": null,
            "_view_module": "@jupyter-widgets/base",
            "overflow": null,
            "_model_module_version": "1.2.0",
            "_view_count": null,
            "flex_flow": null,
            "width": null,
            "min_width": null,
            "border": null,
            "align_items": null,
            "bottom": null,
            "_model_module": "@jupyter-widgets/base",
            "top": null,
            "grid_column": null,
            "overflow_y": null,
            "overflow_x": null,
            "grid_auto_flow": null,
            "grid_area": null,
            "grid_template_columns": null,
            "flex": null,
            "_model_name": "LayoutModel",
            "justify_items": null,
            "grid_row": null,
            "max_height": null,
            "align_content": null,
            "visibility": null,
            "align_self": null,
            "height": null,
            "min_height": null,
            "padding": null,
            "grid_auto_rows": null,
            "grid_gap": null,
            "max_width": null,
            "order": null,
            "_view_module_version": "1.2.0",
            "grid_template_areas": null,
            "object_position": null,
            "object_fit": null,
            "grid_auto_columns": null,
            "margin": null,
            "display": null,
            "left": null
          }
        }
      }
    }
  },
  "cells": [
    {
      "cell_type": "code",
      "metadata": {
        "colab": {
          "base_uri": "https://localhost:8080/"
        },
        "id": "8j5ce7RMn9p2",
        "outputId": "a57be5f4-197c-4b13-a3d0-17dd84a0a2c8"
      },
      "source": [
        "!nvidia-smi"
      ],
      "execution_count": 1,
      "outputs": [
        {
          "output_type": "stream",
          "text": [
            "Thu Jul  1 16:09:01 2021       \n",
            "+-----------------------------------------------------------------------------+\n",
            "| NVIDIA-SMI 465.27       Driver Version: 460.32.03    CUDA Version: 11.2     |\n",
            "|-------------------------------+----------------------+----------------------+\n",
            "| GPU  Name        Persistence-M| Bus-Id        Disp.A | Volatile Uncorr. ECC |\n",
            "| Fan  Temp  Perf  Pwr:Usage/Cap|         Memory-Usage | GPU-Util  Compute M. |\n",
            "|                               |                      |               MIG M. |\n",
            "|===============================+======================+======================|\n",
            "|   0  Tesla T4            Off  | 00000000:00:04.0 Off |                    0 |\n",
            "| N/A   43C    P8     9W /  70W |      0MiB / 15109MiB |      0%      Default |\n",
            "|                               |                      |                  N/A |\n",
            "+-------------------------------+----------------------+----------------------+\n",
            "                                                                               \n",
            "+-----------------------------------------------------------------------------+\n",
            "| Processes:                                                                  |\n",
            "|  GPU   GI   CI        PID   Type   Process name                  GPU Memory |\n",
            "|        ID   ID                                                   Usage      |\n",
            "|=============================================================================|\n",
            "|  No running processes found                                                 |\n",
            "+-----------------------------------------------------------------------------+\n"
          ],
          "name": "stdout"
        }
      ]
    },
    {
      "cell_type": "code",
      "metadata": {
        "colab": {
          "base_uri": "https://localhost:8080/"
        },
        "id": "rqZWENSooKqr",
        "outputId": "d7e8d27e-48dc-4c16-bc8f-96dcaab31d30"
      },
      "source": [
        "!pip3 install transformers"
      ],
      "execution_count": 2,
      "outputs": [
        {
          "output_type": "stream",
          "text": [
            "Collecting transformers\n",
            "\u001b[?25l  Downloading https://files.pythonhosted.org/packages/fd/1a/41c644c963249fd7f3836d926afa1e3f1cc234a1c40d80c5f03ad8f6f1b2/transformers-4.8.2-py3-none-any.whl (2.5MB)\n",
            "\u001b[K     |████████████████████████████████| 2.5MB 28.0MB/s \n",
            "\u001b[?25hRequirement already satisfied: regex!=2019.12.17 in /usr/local/lib/python3.7/dist-packages (from transformers) (2019.12.20)\n",
            "Collecting tokenizers<0.11,>=0.10.1\n",
            "\u001b[?25l  Downloading https://files.pythonhosted.org/packages/d4/e2/df3543e8ffdab68f5acc73f613de9c2b155ac47f162e725dcac87c521c11/tokenizers-0.10.3-cp37-cp37m-manylinux_2_5_x86_64.manylinux1_x86_64.manylinux_2_12_x86_64.manylinux2010_x86_64.whl (3.3MB)\n",
            "\u001b[K     |████████████████████████████████| 3.3MB 51.4MB/s \n",
            "\u001b[?25hCollecting sacremoses\n",
            "\u001b[?25l  Downloading https://files.pythonhosted.org/packages/75/ee/67241dc87f266093c533a2d4d3d69438e57d7a90abb216fa076e7d475d4a/sacremoses-0.0.45-py3-none-any.whl (895kB)\n",
            "\u001b[K     |████████████████████████████████| 901kB 48.2MB/s \n",
            "\u001b[?25hRequirement already satisfied: tqdm>=4.27 in /usr/local/lib/python3.7/dist-packages (from transformers) (4.41.1)\n",
            "Requirement already satisfied: numpy>=1.17 in /usr/local/lib/python3.7/dist-packages (from transformers) (1.19.5)\n",
            "Requirement already satisfied: requests in /usr/local/lib/python3.7/dist-packages (from transformers) (2.23.0)\n",
            "Requirement already satisfied: pyyaml in /usr/local/lib/python3.7/dist-packages (from transformers) (3.13)\n",
            "Collecting huggingface-hub==0.0.12\n",
            "  Downloading https://files.pythonhosted.org/packages/2f/ee/97e253668fda9b17e968b3f97b2f8e53aa0127e8807d24a547687423fe0b/huggingface_hub-0.0.12-py3-none-any.whl\n",
            "Requirement already satisfied: packaging in /usr/local/lib/python3.7/dist-packages (from transformers) (20.9)\n",
            "Requirement already satisfied: importlib-metadata; python_version < \"3.8\" in /usr/local/lib/python3.7/dist-packages (from transformers) (4.5.0)\n",
            "Requirement already satisfied: filelock in /usr/local/lib/python3.7/dist-packages (from transformers) (3.0.12)\n",
            "Requirement already satisfied: six in /usr/local/lib/python3.7/dist-packages (from sacremoses->transformers) (1.15.0)\n",
            "Requirement already satisfied: joblib in /usr/local/lib/python3.7/dist-packages (from sacremoses->transformers) (1.0.1)\n",
            "Requirement already satisfied: click in /usr/local/lib/python3.7/dist-packages (from sacremoses->transformers) (7.1.2)\n",
            "Requirement already satisfied: chardet<4,>=3.0.2 in /usr/local/lib/python3.7/dist-packages (from requests->transformers) (3.0.4)\n",
            "Requirement already satisfied: urllib3!=1.25.0,!=1.25.1,<1.26,>=1.21.1 in /usr/local/lib/python3.7/dist-packages (from requests->transformers) (1.24.3)\n",
            "Requirement already satisfied: idna<3,>=2.5 in /usr/local/lib/python3.7/dist-packages (from requests->transformers) (2.10)\n",
            "Requirement already satisfied: certifi>=2017.4.17 in /usr/local/lib/python3.7/dist-packages (from requests->transformers) (2021.5.30)\n",
            "Requirement already satisfied: typing-extensions in /usr/local/lib/python3.7/dist-packages (from huggingface-hub==0.0.12->transformers) (3.7.4.3)\n",
            "Requirement already satisfied: pyparsing>=2.0.2 in /usr/local/lib/python3.7/dist-packages (from packaging->transformers) (2.4.7)\n",
            "Requirement already satisfied: zipp>=0.5 in /usr/local/lib/python3.7/dist-packages (from importlib-metadata; python_version < \"3.8\"->transformers) (3.4.1)\n",
            "Installing collected packages: tokenizers, sacremoses, huggingface-hub, transformers\n",
            "Successfully installed huggingface-hub-0.0.12 sacremoses-0.0.45 tokenizers-0.10.3 transformers-4.8.2\n"
          ],
          "name": "stdout"
        }
      ]
    },
    {
      "cell_type": "code",
      "metadata": {
        "colab": {
          "base_uri": "https://localhost:8080/"
        },
        "id": "cydWvI-ioKtb",
        "outputId": "ac283344-8111-4f14-e9f1-8c421961c716"
      },
      "source": [
        "from google.colab import drive \n",
        "drive.mount('/content/drive')"
      ],
      "execution_count": 3,
      "outputs": [
        {
          "output_type": "stream",
          "text": [
            "Mounted at /content/drive\n"
          ],
          "name": "stdout"
        }
      ]
    },
    {
      "cell_type": "code",
      "metadata": {
        "id": "1o_uTSjgoKv6"
      },
      "source": [
        "import torch \n",
        "from transformers import BertModel,BertConfig,AutoModel,AutoTokenizer,AdamW,get_linear_schedule_with_warmup,get_constant_schedule\n",
        "import pandas as pd \n",
        "import numpy as np \n",
        "from torch.nn import functional as F\n",
        "from torch.utils.data import Dataset,DataLoader\n",
        "from torch import nn,optim \n",
        "import seaborn as sns \n",
        "import numpy as np \n",
        "from sklearn.model_selection import train_test_split\n",
        "from sklearn.metrics import accuracy_score,classification_report,confusion_matrix,precision_score,recall_score,f1_score\n",
        "# from fairseq.models.roberta import RobertaModel\n",
        "# from fairseq.data.encoders.fastbpe import fastBPE\n",
        "import random\n",
        "import os \n",
        "from matplotlib import pyplot as plt \n",
        "from torch.nn.utils.rnn import pad_sequence\n",
        "import pickle\n",
        "from sklearn.metrics import accuracy_score"
      ],
      "execution_count": 4,
      "outputs": []
    },
    {
      "cell_type": "code",
      "metadata": {
        "id": "N_fSG7dBoKy_"
      },
      "source": [
        "!cp /content/drive/MyDrive/Viettel3/train_n.csv /content\n",
        "!cp /content/drive/MyDrive/Viettel3/test_n.csv /content"
      ],
      "execution_count": 5,
      "outputs": []
    },
    {
      "cell_type": "code",
      "metadata": {
        "id": "jsokP0EYoK1a"
      },
      "source": [
        "# train=pd.read_csv('train_n.csv')\n",
        "test=pd.read_csv('test_n.csv')"
      ],
      "execution_count": 6,
      "outputs": []
    },
    {
      "cell_type": "code",
      "metadata": {
        "colab": {
          "base_uri": "https://localhost:8080/",
          "height": 304,
          "referenced_widgets": [
            "f828f62ba1ba4df0aa9befc44fe98458",
            "d61ffaea0c7e456c96c74bc3b447bee7",
            "224889f32b0f42b58fb630cd79d09b61",
            "3121bfbd008d4d3bb89283e7b79dce24",
            "b4604296f791451d90be78c27d0adc3d",
            "ffcc69eaf9a74548b32d2cf02bb66d5e",
            "cab8e667c3da4b2c9aa6d931fc08c0a7",
            "87033805577641359026cc5a41c3b7f5",
            "80850b81fc714498a736810e690a7329",
            "da5ac2d2836c4453895a3b817492d2c1",
            "e1af0737086b4d3a88857d5c024a469d",
            "2227e8195ff5431a9dcd23794afb81fd",
            "58da65d1108345cea58d047540a22fea",
            "9b4759f9039e486ebce45b258cdfd968",
            "cf52a5a30f714157a8cae5cc31390b38",
            "f8ce6925fe86409eb3fb99fc43698893",
            "8f45b754b27549a4b115815fd6bc10f7",
            "3f32bc96a89f46eea1cec94d8f7cee83",
            "7b79832319ec4266b5dd006e7fc845c0",
            "8d7dc4fe48d744e7abc32eb9b3016f8e",
            "49de2b5db2214445b45a451a66aa6c9f",
            "db40273d1226439bbb64b45e19239751",
            "4112d1c1483a40bea75ad907b370d55f",
            "746287ef281b4daa822b8ec9faf35001",
            "c078e413bead457ab1db57fb2c4250a3",
            "554d56498110426fa6caf41c0452305d",
            "6f86e91cf26349369efa2d39604a32d2",
            "3fc47752d43a4a44be1468f6b61a7eaa",
            "f3b567960e484733b5161bf475aa5be5",
            "e18c90532f2543a8bd71a42219b117d1",
            "845dd740dca2441592fecaeea615d180",
            "bbe9662e4dc14f959d6d0cc88d3e0d7e"
          ]
        },
        "id": "Zdt2fJHjoK6U",
        "outputId": "9c7987d7-af95-4d46-87a1-0547f0bb2703"
      },
      "source": [
        "phobert=AutoModel.from_pretrained(\"vinai/phobert-base\")\n",
        "tokenizer=AutoTokenizer.from_pretrained(\"vinai/phobert-base\")"
      ],
      "execution_count": 7,
      "outputs": [
        {
          "output_type": "display_data",
          "data": {
            "application/vnd.jupyter.widget-view+json": {
              "model_id": "f828f62ba1ba4df0aa9befc44fe98458",
              "version_minor": 0,
              "version_major": 2
            },
            "text/plain": [
              "HBox(children=(FloatProgress(value=0.0, description='Downloading', max=557.0, style=ProgressStyle(description_…"
            ]
          },
          "metadata": {
            "tags": []
          }
        },
        {
          "output_type": "stream",
          "text": [
            "\n"
          ],
          "name": "stdout"
        },
        {
          "output_type": "display_data",
          "data": {
            "application/vnd.jupyter.widget-view+json": {
              "model_id": "80850b81fc714498a736810e690a7329",
              "version_minor": 0,
              "version_major": 2
            },
            "text/plain": [
              "HBox(children=(FloatProgress(value=0.0, description='Downloading', max=542923308.0, style=ProgressStyle(descri…"
            ]
          },
          "metadata": {
            "tags": []
          }
        },
        {
          "output_type": "stream",
          "text": [
            "\n"
          ],
          "name": "stdout"
        },
        {
          "output_type": "stream",
          "text": [
            "Some weights of the model checkpoint at vinai/phobert-base were not used when initializing RobertaModel: ['lm_head.layer_norm.weight', 'lm_head.decoder.bias', 'lm_head.dense.bias', 'lm_head.bias', 'lm_head.dense.weight', 'lm_head.decoder.weight', 'lm_head.layer_norm.bias']\n",
            "- This IS expected if you are initializing RobertaModel from the checkpoint of a model trained on another task or with another architecture (e.g. initializing a BertForSequenceClassification model from a BertForPreTraining model).\n",
            "- This IS NOT expected if you are initializing RobertaModel from the checkpoint of a model that you expect to be exactly identical (initializing a BertForSequenceClassification model from a BertForSequenceClassification model).\n"
          ],
          "name": "stderr"
        },
        {
          "output_type": "display_data",
          "data": {
            "application/vnd.jupyter.widget-view+json": {
              "model_id": "8f45b754b27549a4b115815fd6bc10f7",
              "version_minor": 0,
              "version_major": 2
            },
            "text/plain": [
              "HBox(children=(FloatProgress(value=0.0, description='Downloading', max=895321.0, style=ProgressStyle(descripti…"
            ]
          },
          "metadata": {
            "tags": []
          }
        },
        {
          "output_type": "stream",
          "text": [
            "\n"
          ],
          "name": "stdout"
        },
        {
          "output_type": "display_data",
          "data": {
            "application/vnd.jupyter.widget-view+json": {
              "model_id": "c078e413bead457ab1db57fb2c4250a3",
              "version_minor": 0,
              "version_major": 2
            },
            "text/plain": [
              "HBox(children=(FloatProgress(value=0.0, description='Downloading', max=1135173.0, style=ProgressStyle(descript…"
            ]
          },
          "metadata": {
            "tags": []
          }
        },
        {
          "output_type": "stream",
          "text": [
            "\n"
          ],
          "name": "stdout"
        },
        {
          "output_type": "stream",
          "text": [
            "Special tokens have been added in the vocabulary, make sure the associated word embeddings are fine-tuned or trained.\n"
          ],
          "name": "stderr"
        }
      ]
    },
    {
      "cell_type": "code",
      "metadata": {
        "id": "NkKOn-MgoK9r"
      },
      "source": [
        "val=pd.DataFrame()\n",
        "random.seed(42)\n",
        "n_classes=len(set(train.label))\n",
        "for i in range(n_classes):\n",
        "    temp=train[train.label==i]\n",
        "    temp=temp.sample(int(len(temp)*0.2))\n",
        "    val=pd.concat([val,temp],axis=0)\n",
        "\n",
        "train=train[~train.index.isin(val.index)]\n",
        "train.to_csv(\"train.csv\",index=False)\n",
        "val.to_csv(\"val.csv\",index=False)"
      ],
      "execution_count": null,
      "outputs": []
    },
    {
      "cell_type": "code",
      "metadata": {
        "colab": {
          "base_uri": "https://localhost:8080/"
        },
        "id": "FOQIIYwhfwQY",
        "outputId": "592f4587-ae09-4882-ce3a-c94288ba671b"
      },
      "source": [
        "print(len(train))\n",
        "print(len(val))"
      ],
      "execution_count": null,
      "outputs": [
        {
          "output_type": "stream",
          "text": [
            "27012\n",
            "6747\n"
          ],
          "name": "stdout"
        }
      ]
    },
    {
      "cell_type": "code",
      "metadata": {
        "id": "iPwoX60IoLAV"
      },
      "source": [
        "# !cp /content/train.csv /content/drive/MyDrive/Viettel3/Bert\n",
        "# !cp /content/val.csv /content/drive/MyDrive/Viettel3/Bert"
      ],
      "execution_count": null,
      "outputs": []
    },
    {
      "cell_type": "code",
      "metadata": {
        "id": "sPYi45n9QPZt"
      },
      "source": [
        "!cp /content/drive/MyDrive/Viettel3/Bert/val.csv /content\n",
        "!cp /content/drive/MyDrive/Viettel3/Bert/train.csv /content"
      ],
      "execution_count": 10,
      "outputs": []
    },
    {
      "cell_type": "code",
      "metadata": {
        "id": "8f-OCreNoLC7"
      },
      "source": [
        "# train=pd.read_csv('train.csv')\n",
        "val=pd.read_csv('val.csv')"
      ],
      "execution_count": 11,
      "outputs": []
    },
    {
      "cell_type": "code",
      "metadata": {
        "id": "ujwmd5DxoLFy"
      },
      "source": [
        "labels={\n",
        "0:\"Van hoa\",\n",
        "1:\"Chinh tri Xa hoi\",\n",
        "2:\"Khoa hoc\",\n",
        "3:\"Phap luat\",\n",
        "4:\"Vi tinh\",\n",
        "5:\"Suc khoe\",\n",
        "6:\"Kinh doanh\",\n",
        "7:\"The thao\",\n",
        "8:\"The gioi\",\n",
        "9:\"Doi song\"\n",
        "}"
      ],
      "execution_count": 12,
      "outputs": []
    },
    {
      "cell_type": "code",
      "metadata": {
        "colab": {
          "base_uri": "https://localhost:8080/"
        },
        "id": "RFPKNPwhoLIt",
        "outputId": "1b73bbd2-3cc9-4aa9-fce6-0c68adff4082"
      },
      "source": [
        "max_sequence_length=256\n",
        "\n",
        "def encode_data(data):\n",
        "  result=[]\n",
        "  for text in data.text.values:\n",
        "    temp=tokenizer.encode(text)\n",
        "    if len(temp)<max_sequence_length:\n",
        "      temp+=[1]*(max_sequence_length-len(temp))\n",
        "    else:\n",
        "      t1=temp[:64]\n",
        "      t2=temp[-192:]\n",
        "      temp=t1+t2\n",
        "    result.append(temp)\n",
        "  return result\n",
        "\n",
        "# train['data']=encode_data(train)\n",
        "test['data']=encode_data(test)\n",
        "val['data']=encode_data(val)"
      ],
      "execution_count": 13,
      "outputs": [
        {
          "output_type": "stream",
          "text": [
            "Token indices sequence length is longer than the specified maximum sequence length for this model (417 > 256). Running this sequence through the model will result in indexing errors\n"
          ],
          "name": "stderr"
        }
      ]
    },
    {
      "cell_type": "code",
      "metadata": {
        "id": "LbZr5mHHoLLk"
      },
      "source": [
        "# train_dataset_tensor=torch.utils.data.TensorDataset(torch.tensor(train['data'],dtype=torch.long),torch.tensor(train['label'],dtype=torch.long))\n",
        "test_dataset_tensor=torch.utils.data.TensorDataset(torch.tensor(test['data'],dtype=torch.long),torch.tensor(test['label'],dtype=torch.long))\n",
        "val_dataset_tensor=torch.utils.data.TensorDataset(torch.tensor(val['data'],dtype=torch.long),torch.tensor(val['label'],dtype=torch.long))"
      ],
      "execution_count": 14,
      "outputs": []
    },
    {
      "cell_type": "code",
      "metadata": {
        "id": "3zXVassdoLO9"
      },
      "source": [
        "batch_size=16\n",
        "# train_loader=DataLoader(train_dataset_tensor,batch_size=batch_size,shuffle=True)\n",
        "test_loader=DataLoader(test_dataset_tensor,batch_size=batch_size,shuffle=True)\n",
        "val_loader=DataLoader(val_dataset_tensor,batch_size=batch_size,shuffle=True)"
      ],
      "execution_count": 15,
      "outputs": []
    },
    {
      "cell_type": "code",
      "metadata": {
        "colab": {
          "base_uri": "https://localhost:8080/"
        },
        "id": "ZqiVFJgnoLSt",
        "outputId": "e0c0e56f-3e21-40ec-e09c-d14a2eff6201"
      },
      "source": [
        "# print(len(train_loader))\n",
        "print(len(test_loader))\n",
        "print(len(val_loader))"
      ],
      "execution_count": 18,
      "outputs": [
        {
          "output_type": "stream",
          "text": [
            "3149\n",
            "422\n"
          ],
          "name": "stdout"
        }
      ]
    },
    {
      "cell_type": "code",
      "metadata": {
        "id": "CljGpALJoLU6"
      },
      "source": [
        "class Model(nn.Module):\n",
        "  def __init__(self,n_classes,drop_prob=0.2):\n",
        "    super(Model,self).__init__()\n",
        "    self.n_classes=n_classes\n",
        "    self.bert=phobert\n",
        "    self.lstm=nn.LSTM(input_size=self.bert.config.hidden_size,\n",
        "                      hidden_size=512,\n",
        "                      batch_first=True,\n",
        "                      num_layers=2,\n",
        "                      bidirectional=True)\n",
        "    self.linear=nn.Sequential(\n",
        "        nn.Linear(512*4,512),\n",
        "        nn.LayerNorm(512),\n",
        "        nn.ReLU(),\n",
        "        nn.Linear(512,self.n_classes)\n",
        "    )\n",
        "      \n",
        "  def forward(self,x_batch):\n",
        "    word_embedding = self.bert(x_batch)[0]\n",
        "    lstm_out,_=self.lstm(word_embedding)\n",
        "    avg_hidden=torch.mean(lstm_out,dim=1)\n",
        "    max_hidden,_=torch.max(lstm_out,dim=1)\n",
        "    input_linear=torch.cat((avg_hidden,max_hidden),dim=1)\n",
        "    out=self.linear(input_linear)\n",
        "    return out\n",
        "\n",
        "class LabelSmoothingCrossEntropyLoss(nn.Module):\n",
        "    def __init__(self,smoothing_value=0.04,reduction='mean'):\n",
        "        super(LabelSmoothingCrossEntropyLoss,self).__init__()\n",
        "        self.smoothing_value=smoothing_value\n",
        "        self.reduction=reduction\n",
        "    \n",
        "    def reduce_loss(self,loss,reduction='mean'):\n",
        "        return loss.mean() if reduction=='mean' else loss.sum() if reduction=='sum' else loss \n",
        "\n",
        "    def forward(self,outputs,targets):\n",
        "        n_classes=outputs.size(1)\n",
        "        log_preds=F.log_softmax(outputs,dim=1)\n",
        "        loss=self.reduce_loss(-log_preds.sum(dim=-1),self.reduction)\n",
        "        nll=F.nll_loss(log_preds,targets,reduction=self.reduction)\n",
        "        return (1-self.smoothing_value)*nll+ self.smoothing_value*(loss/n_classes)"
      ],
      "execution_count": 19,
      "outputs": []
    },
    {
      "cell_type": "code",
      "metadata": {
        "id": "DMvUFZkO0DNz"
      },
      "source": [
        "device=torch.device(\"cuda\" if torch.cuda.is_available() else \"cpu\")"
      ],
      "execution_count": 20,
      "outputs": []
    },
    {
      "cell_type": "code",
      "metadata": {
        "id": "CLQa-pM1oLXx"
      },
      "source": [
        "n_epochs=100\n",
        "num_classes=len(set(train.label))\n",
        "# model_state=torch.load('/content/drive/MyDrive/Viettel3/Bert/model21.pth')\n",
        "model=Model(num_classes).to(device)\n",
        "optimizer=AdamW(model.parameters(),lr=1e-5)\n",
        "scheduler=get_linear_schedule_with_warmup(\n",
        "    optimizer,\n",
        "    num_warmup_steps=100,\n",
        "    num_training_steps=len(train_loader)*(n_epochs-1)\n",
        ")\n",
        "scheduler_frozen=get_constant_schedule(optimizer)\n",
        "criterion=LabelSmoothingCrossEntropyLoss().to(device)\n",
        "frozen=True"
      ],
      "execution_count": null,
      "outputs": []
    },
    {
      "cell_type": "code",
      "metadata": {
        "id": "nZcBHhrZoLaT"
      },
      "source": [
        "for child in phobert.children():\n",
        "  for param in child.parameters():\n",
        "    param.requires_grad = False"
      ],
      "execution_count": null,
      "outputs": []
    },
    {
      "cell_type": "code",
      "metadata": {
        "id": "9AsrcerxoLf1"
      },
      "source": [
        "def train_model(model,data_loader,scheduler_model):\n",
        "  print(\"-----------------------Training--------------------------\")\n",
        "  model.train()\n",
        "  loss_train=0\n",
        "  final_preds=[]\n",
        "  final_true=[]\n",
        "  for idx,(x_batch,y_batch) in enumerate(data_loader):    \n",
        "    x_batch=x_batch.to(device)\n",
        "    y_batch=y_batch.to(device)\n",
        "    outputs=model(x_batch)\n",
        "    loss=criterion(outputs,y_batch)\n",
        "    outputs=torch.softmax(outputs,dim=1)\n",
        "    preds=torch.argmax(outputs,dim=1)\n",
        "    final_preds.extend(preds.cpu().numpy().tolist())\n",
        "    final_true.extend(y_batch.cpu().numpy().tolist())\n",
        "    optimizer.zero_grad()\n",
        "    loss.backward()\n",
        "    optimizer.step()\n",
        "    scheduler_model.step()\n",
        "    loss_train+=loss.item()\n",
        "    if idx%100==0:\n",
        "      print(idx,end=' ')\n",
        "  print()  \n",
        "  return accuracy_score(final_true,final_preds),loss_train/len(data_loader)\n",
        "\n",
        "\n",
        "def evaluate(model,data_loader):\n",
        "  print(\"------------------------Evaluate---------------------------\")\n",
        "  model.eval()\n",
        "  loss_val=0\n",
        "  final_preds=[]\n",
        "  final_true=[]\n",
        "  for idx,(x_batch,y_batch) in enumerate(data_loader):\n",
        "    x_batch=x_batch.to(device)\n",
        "    y_batch=y_batch.to(device)\n",
        "    outputs=model(x_batch)\n",
        "    loss=criterion(outputs,y_batch)\n",
        "    outputs=torch.softmax(outputs,dim=1)\n",
        "    preds=torch.argmax(outputs,dim=1)\n",
        "    loss_val+=loss.item()\n",
        "    final_preds.extend(preds.cpu().numpy().tolist())\n",
        "    final_true.extend(y_batch.cpu().numpy().tolist())\n",
        "    if idx%100==0:\n",
        "      print(idx,end=' ')\n",
        "\n",
        "  print()\n",
        "  return accuracy_score(final_true,final_preds),loss_val/len(data_loader)"
      ],
      "execution_count": null,
      "outputs": []
    },
    {
      "cell_type": "code",
      "metadata": {
        "id": "6_DDL831or8Q"
      },
      "source": [
        "def testing(data_loader):\n",
        "  model.eval()\n",
        "  final_preds=[]\n",
        "  final_true=[]\n",
        "  with torch.no_grad():\n",
        "    for idx,(x_batch,y_batch) in enumerate(data_loader):\n",
        "      x_batch=x_batch.to(device)\n",
        "      y_batch=y_batch.to(device)\n",
        "      outputs=model(x_batch)\n",
        "      outputs=torch.softmax(outputs,dim=1)\n",
        "      preds=torch.argmax(outputs,dim=1)\n",
        "      final_preds.extend(preds.cpu().numpy().tolist())\n",
        "      final_true.extend(y_batch.cpu().numpy().tolist())\n",
        "      if idx%100==0:\n",
        "        print(idx,end=' ')\n",
        "  print()\n",
        "  print(\"Accuracy for test:\",accuracy_score(final_true,final_preds))\n",
        "\n",
        "def save_checkpoint(epoch,scheduler_model):\n",
        "  path='/content/drive/MyDrive/Viettel3/Bert'\n",
        "  if os.path.exists(path) is False:\n",
        "    os.mkdir(path)\n",
        "  \n",
        "  with open('/content/drive/MyDrive/Viettel3/Bert/history{}.pickle'.format(epoch),'wb') as file:\n",
        "    pickle.dump(history,file)\n",
        "  \n",
        "  print(\"Save history done\")\n",
        "  model_state={\n",
        "      'model':model.state_dict(),\n",
        "      'optimizer':optimizer.state_dict(),\n",
        "      'scheduler':scheduler_model.state_dict(),\n",
        "      'loss':criterion\n",
        "  }\n",
        "  torch.save(model_state,path+'/model{}.pth'.format(epoch))\n",
        "  print(\"Save model done\")"
      ],
      "execution_count": null,
      "outputs": []
    },
    {
      "cell_type": "code",
      "metadata": {
        "colab": {
          "base_uri": "https://localhost:8080/"
        },
        "id": "wf8y106wor_r",
        "outputId": "dd446536-11ce-4ff4-b80d-f770295e2750"
      },
      "source": [
        "from collections import defaultdict\n",
        "import time \n",
        "history=defaultdict(list)\n",
        "for epoch in range(n_epochs):\n",
        "\n",
        "  if epoch > 0 and frozen:\n",
        "    for child in model.bert.children():\n",
        "      for param in child.parameters():\n",
        "        param.requires_grad = False\n",
        "    del scheduler_frozen\n",
        "    torch.cuda.empty_cache()\n",
        "    frozen=False \n",
        "\n",
        "  start_time=time.time()\n",
        "  if frozen:\n",
        "    train_acc,train_loss=train_model(model,train_loader,scheduler_frozen)\n",
        "  else:\n",
        "    train_acc,train_loss=train_model(model,train_loader,scheduler)\n",
        "    \n",
        "  val_acc,val_loss=evaluate(model,val_loader)\n",
        "  print(f\"Epoch {epoch}----Train acc:{train_acc}----Train loss:{train_loss}---Val acc:{val_acc}---Val loss:{val_loss}---Time:{time.time()-start_time}\")\n",
        "  history['train_acc'].append(train_acc)\n",
        "  history['train_loss'].append(train_loss)\n",
        "  history['val_acc'].append(val_acc)\n",
        "  history['val_loss'].append(val_loss)\n",
        "  if epoch!=0 and epoch%3==0:\n",
        "    print(\"--------------Time for testing-----------------\")\n",
        "    testing(test_loader) \n",
        "    save_checkpoint(epoch,scheduler)"
      ],
      "execution_count": null,
      "outputs": [
        {
          "output_type": "stream",
          "text": [
            "-----------------------Training--------------------------\n",
            "0 100 200 300 400 500 600 700 800 \n",
            "------------------------Evaluate---------------------------\n",
            "0 100 200 \n",
            "Epoch 0----Train acc:0.7784688286687398----Train loss:0.9281049807396161---Val acc:0.8636431006373203---Val loss:0.6226909455812373---Time:781.4636647701263\n",
            "-----------------------Training--------------------------\n",
            "0 100 200 300 400 500 600 700 800 \n",
            "------------------------Evaluate---------------------------\n",
            "0 100 200 \n",
            "Epoch 1----Train acc:0.8759070042943877----Train loss:0.5760438872159586---Val acc:0.874907366236846---Val loss:0.5617461385320148---Time:784.7327320575714\n",
            "-----------------------Training--------------------------\n",
            "0 100 200 300 400 500 600 700 800 \n",
            "------------------------Evaluate---------------------------\n",
            "0 100 200 \n",
            "Epoch 2----Train acc:0.8901969495039241----Train loss:0.5309797309206787---Val acc:0.8932859048465985---Val loss:0.5249709198825168---Time:785.463579416275\n",
            "-----------------------Training--------------------------\n",
            "0 100 200 300 400 500 600 700 800 \n",
            "------------------------Evaluate---------------------------\n",
            "0 100 200 \n",
            "Epoch 3----Train acc:0.8951206871020287----Train loss:0.5102039900757152---Val acc:0.8984733955832221---Val loss:0.5040315571836951---Time:786.2704288959503\n",
            "--------------Time for testing-----------------\n",
            "0 100 200 300 400 500 600 700 800 900 1000 1100 1200 1300 1400 1500 \n",
            "Accuracy for test: 0.8974252079487027\n",
            "Save history done\n",
            "Save model done\n",
            "-----------------------Training--------------------------\n",
            "0 100 200 300 400 500 600 700 800 \n",
            "------------------------Evaluate---------------------------\n",
            "0 100 200 \n",
            "Epoch 4----Train acc:0.9033392566266845----Train loss:0.4942769028025971---Val acc:0.8984733955832221---Val loss:0.50613400721437---Time:785.0625059604645\n",
            "-----------------------Training--------------------------\n",
            "0 100 200 300 400 500 600 700 800 \n",
            "------------------------Evaluate---------------------------\n",
            "0 100 200 \n",
            "Epoch 5----Train acc:0.9074855619724567----Train loss:0.48221196281839407---Val acc:0.9001037498147325---Val loss:0.4915570496665358---Time:784.1272869110107\n",
            "-----------------------Training--------------------------\n",
            "0 100 200 300 400 500 600 700 800 \n",
            "------------------------Evaluate---------------------------\n",
            "0 100 200 \n",
            "Epoch 6----Train acc:0.910891455649341----Train loss:0.4716558850375858---Val acc:0.9064769527197273---Val loss:0.48279196984395034---Time:784.1819944381714\n",
            "--------------Time for testing-----------------\n",
            "0 100 200 300 400 500 600 700 800 900 1000 1100 1200 1300 1400 1500 \n",
            "Accuracy for test: 0.9041152998630219\n",
            "Save history done\n",
            "Save model done\n",
            "-----------------------Training--------------------------\n",
            "0 100 200 300 400 500 600 700 800 \n",
            "------------------------Evaluate---------------------------\n",
            "0 100 200 \n",
            "Epoch 7----Train acc:0.9144824522434474----Train loss:0.4626928551486258---Val acc:0.9052912405513561---Val loss:0.4828148076037095---Time:784.7731611728668\n",
            "-----------------------Training--------------------------\n",
            "0 100 200 300 400 500 600 700 800 \n",
            "------------------------Evaluate---------------------------\n",
            "0 100 200 \n",
            "Epoch 8----Train acc:0.9180364282541092----Train loss:0.4539425961011966---Val acc:0.90677338076182---Val loss:0.47913218264896157---Time:785.4369492530823\n",
            "-----------------------Training--------------------------\n",
            "0 100 200 300 400 500 600 700 800 \n",
            "------------------------Evaluate---------------------------\n",
            "0 100 200 \n",
            "Epoch 9----Train acc:0.9193321486746631----Train loss:0.44730395089239766---Val acc:0.9107751593300726---Val loss:0.47516679509556126---Time:785.2257845401764\n",
            "--------------Time for testing-----------------\n",
            "0 100 200 300 400 500 600 700 800 900 1000 1100 1200 1300 1400 1500 \n",
            "Accuracy for test: 0.9092767951084907\n",
            "Save history done\n",
            "Save model done\n",
            "-----------------------Training--------------------------\n",
            "0 100 200 300 400 500 600 700 800 \n",
            "------------------------Evaluate---------------------------\n",
            "0 100 200 \n",
            "Epoch 10----Train acc:0.9227750629349919----Train loss:0.44013608817518113---Val acc:0.90677338076182---Val loss:0.47724445835109003---Time:784.4951658248901\n",
            "-----------------------Training--------------------------\n",
            "0 100 200 300 400 500 600 700 800 \n",
            "------------------------Evaluate---------------------------\n",
            "0 100 200 \n",
            "Epoch 11----Train acc:0.9251073596919888----Train loss:0.43357636420684453---Val acc:0.9091448050985623---Val loss:0.47264918204732415---Time:785.7213039398193\n",
            "-----------------------Training--------------------------\n",
            "0 100 200 300 400 500 600 700 800 \n",
            "------------------------Evaluate---------------------------\n",
            "0 100 200 \n",
            "Epoch 12----Train acc:0.9286613357026506----Train loss:0.42609424100825066---Val acc:0.912850155624722---Val loss:0.4671354180828655---Time:785.1461892127991\n",
            "--------------Time for testing-----------------\n",
            "0 100 200 300 400 500 600 700 800 900 1000 1100 1200 1300 1400 1500 \n",
            "Accuracy for test: 0.9104083536815357\n",
            "Save history done\n",
            "Save model done\n",
            "-----------------------Training--------------------------\n",
            "0 100 200 300 400 500 600 700 800 \n",
            "------------------------Evaluate---------------------------\n",
            "0 100 200 \n",
            "Epoch 13----Train acc:0.9321782911298682----Train loss:0.42050170774995926---Val acc:0.912405513561583---Val loss:0.4649315542801862---Time:784.9720363616943\n",
            "-----------------------Training--------------------------\n",
            "0 100 200 300 400 500 600 700 800 \n",
            "------------------------Evaluate---------------------------\n",
            "0 100 200 \n",
            "Epoch 14----Train acc:0.9353990818895306----Train loss:0.41431109266873645---Val acc:0.9121090855194901---Val loss:0.4658840175771035---Time:784.5323257446289\n",
            "-----------------------Training--------------------------\n",
            "0 100 200 300 400 500 600 700 800 \n",
            "------------------------Evaluate---------------------------\n",
            "0 100 200 \n",
            "Epoch 15----Train acc:0.9368058640604175----Train loss:0.40851907719521835---Val acc:0.9110715873721654---Val loss:0.468678818071058---Time:784.418573141098\n",
            "--------------Time for testing-----------------\n",
            "0 100 200 300 400 500 600 700 800 900 1000 1100 1200 1300 1400 1500 \n",
            "Accuracy for test: 0.9066960474857563\n",
            "Save history done\n",
            "Save model done\n",
            "-----------------------Training--------------------------\n",
            "0 100 200 300 400 500 600 700 800 \n",
            "------------------------Evaluate---------------------------\n",
            "0 100 200 \n",
            "Epoch 16----Train acc:0.9402487783207464----Train loss:0.4026239886791748---Val acc:0.911664443456351---Val loss:0.4613521579317572---Time:786.0693278312683\n",
            "-----------------------Training--------------------------\n",
            "0 100 200 300 400 500 600 700 800 \n",
            "------------------------Evaluate---------------------------\n",
            "0 100 200 \n",
            "Epoch 17----Train acc:0.9411372723234118----Train loss:0.39906885708577533---Val acc:0.9144805098562324---Val loss:0.4611395300847094---Time:782.8116159439087\n",
            "-----------------------Training--------------------------\n",
            "0 100 200 300 400 500 600 700 800 \n",
            "------------------------Evaluate---------------------------\n",
            "0 100 200 \n",
            "Epoch 18----Train acc:0.9435806308307418----Train loss:0.393880808212348---Val acc:0.9146287238772788---Val loss:0.46265949287685737---Time:784.6366968154907\n",
            "--------------Time for testing-----------------\n",
            "0 100 200 300 400 500 600 700 800 900 1000 1100 1200 1300 1400 1500 \n",
            "Accuracy for test: 0.9105076132054871\n",
            "Save history done\n",
            "Save model done\n",
            "-----------------------Training--------------------------\n",
            "0 100 200 300 400 500 600 700 800 \n",
            "------------------------Evaluate---------------------------\n",
            "0 100 200 \n",
            "Epoch 19----Train acc:0.9483933066785133----Train loss:0.3858057339515912---Val acc:0.9141840818141396---Val loss:0.46197627237622774---Time:785.8002552986145\n",
            "-----------------------Training--------------------------\n",
            "0 100 200 300 400 500 600 700 800 \n",
            "------------------------Evaluate---------------------------\n",
            "0 100 200 \n",
            "Epoch 20----Train acc:0.9496149859321783----Train loss:0.38147149135375163---Val acc:0.9158144360456499---Val loss:0.46394594387985516---Time:783.812520980835\n",
            "-----------------------Training--------------------------\n",
            "0 100 200 300 400 500 600 700 800 \n",
            "------------------------Evaluate---------------------------\n",
            "0 100 200 \n",
            "Epoch 21----Train acc:0.9523545091070635----Train loss:0.3760905734886079---Val acc:0.9127019416036757---Val loss:0.46415314304320165---Time:785.2485666275024\n",
            "--------------Time for testing-----------------\n",
            "0 100 200 300 400 500 600 700 800 900 1000 1100 1200 1300 1400 1500 \n",
            "Accuracy for test: 0.9122148770174499\n",
            "Save history done\n",
            "Save model done\n",
            "-----------------------Training--------------------------\n",
            "0 100 200 300 400 500 600 700 800 \n",
            "------------------------Evaluate---------------------------\n",
            "0 100 200 \n",
            "Epoch 22----Train acc:0.9546497852806161----Train loss:0.37148532606440887---Val acc:0.9137394397510005---Val loss:0.4639519313217904---Time:783.1984651088715\n",
            "-----------------------Training--------------------------\n",
            "0 100 200 300 400 500 600 700 800 \n",
            "------------------------Evaluate---------------------------\n",
            "0 100 200 \n",
            "Epoch 23----Train acc:0.9577224937065009----Train loss:0.36712211250553467---Val acc:0.9156662220246036---Val loss:0.46461498186486594---Time:785.1111080646515\n",
            "-----------------------Training--------------------------\n",
            "0 100 200 300 400 500 600 700 800 \n",
            "------------------------Evaluate---------------------------\n",
            "0 100 200 \n",
            "Epoch 24----Train acc:0.9602028727972752----Train loss:0.3606533835272817---Val acc:0.916259078108789---Val loss:0.4588644585055763---Time:786.179792881012\n",
            "--------------Time for testing-----------------\n",
            "0 100 200 300 400 500 600 700 800 900 1000 1100 1200 1300 1400 1500 \n",
            "Accuracy for test: 0.9120163579695472\n",
            "Save history done\n",
            "Save model done\n",
            "-----------------------Training--------------------------\n",
            "0 100 200 300 400 500 600 700 800 \n",
            "------------------------Evaluate---------------------------\n",
            "0 100 200 \n",
            "Epoch 25----Train acc:0.9619798608026062----Train loss:0.3561189051915908---Val acc:0.9167037201719282---Val loss:0.45888983666614336---Time:785.5206806659698\n",
            "-----------------------Training--------------------------\n",
            "0 100 200 300 400 500 600 700 800 \n",
            "------------------------Evaluate---------------------------\n",
            "0 100 200 \n",
            "Epoch 26----Train acc:0.9635717458907153----Train loss:0.3526266006852043---Val acc:0.915073365940418---Val loss:0.4698631274756662---Time:784.6734941005707\n",
            "-----------------------Training--------------------------\n",
            "0 100 200 300 400 500 600 700 800 \n",
            "------------------------Evaluate---------------------------\n",
            "0 100 200 \n",
            "Epoch 27----Train acc:0.9678661335702651----Train loss:0.3453322224010377---Val acc:0.9172965762561138---Val loss:0.46074241145527195---Time:784.7849819660187\n",
            "--------------Time for testing-----------------\n",
            "0 100 200 300 400 500 "
          ],
          "name": "stdout"
        }
      ]
    },
    {
      "cell_type": "code",
      "metadata": {
        "id": "ZLRfJiLJhR9B"
      },
      "source": [
        ""
      ],
      "execution_count": null,
      "outputs": []
    },
    {
      "cell_type": "code",
      "metadata": {
        "id": "Ab43R3oK0Ji-"
      },
      "source": [
        ""
      ],
      "execution_count": null,
      "outputs": []
    },
    {
      "cell_type": "markdown",
      "metadata": {
        "id": "F3DVPb-T0KI1"
      },
      "source": [
        "# Test Model"
      ]
    },
    {
      "cell_type": "code",
      "metadata": {
        "colab": {
          "base_uri": "https://localhost:8080/"
        },
        "id": "j1T8ipNV0Jlk",
        "outputId": "da9efd98-e098-4716-b8d5-200141822e9f"
      },
      "source": [
        "model_state=torch.load('/content/drive/MyDrive/Viettel3/Bert/model21.pth')\n",
        "model=Model(n_classes=10).to(device)\n",
        "model.load_state_dict(model_state['model'])\n",
        "model.eval()"
      ],
      "execution_count": 21,
      "outputs": [
        {
          "output_type": "execute_result",
          "data": {
            "text/plain": [
              "Model(\n",
              "  (bert): RobertaModel(\n",
              "    (embeddings): RobertaEmbeddings(\n",
              "      (word_embeddings): Embedding(64001, 768, padding_idx=1)\n",
              "      (position_embeddings): Embedding(258, 768, padding_idx=1)\n",
              "      (token_type_embeddings): Embedding(1, 768)\n",
              "      (LayerNorm): LayerNorm((768,), eps=1e-05, elementwise_affine=True)\n",
              "      (dropout): Dropout(p=0.1, inplace=False)\n",
              "    )\n",
              "    (encoder): RobertaEncoder(\n",
              "      (layer): ModuleList(\n",
              "        (0): RobertaLayer(\n",
              "          (attention): RobertaAttention(\n",
              "            (self): RobertaSelfAttention(\n",
              "              (query): Linear(in_features=768, out_features=768, bias=True)\n",
              "              (key): Linear(in_features=768, out_features=768, bias=True)\n",
              "              (value): Linear(in_features=768, out_features=768, bias=True)\n",
              "              (dropout): Dropout(p=0.1, inplace=False)\n",
              "            )\n",
              "            (output): RobertaSelfOutput(\n",
              "              (dense): Linear(in_features=768, out_features=768, bias=True)\n",
              "              (LayerNorm): LayerNorm((768,), eps=1e-05, elementwise_affine=True)\n",
              "              (dropout): Dropout(p=0.1, inplace=False)\n",
              "            )\n",
              "          )\n",
              "          (intermediate): RobertaIntermediate(\n",
              "            (dense): Linear(in_features=768, out_features=3072, bias=True)\n",
              "          )\n",
              "          (output): RobertaOutput(\n",
              "            (dense): Linear(in_features=3072, out_features=768, bias=True)\n",
              "            (LayerNorm): LayerNorm((768,), eps=1e-05, elementwise_affine=True)\n",
              "            (dropout): Dropout(p=0.1, inplace=False)\n",
              "          )\n",
              "        )\n",
              "        (1): RobertaLayer(\n",
              "          (attention): RobertaAttention(\n",
              "            (self): RobertaSelfAttention(\n",
              "              (query): Linear(in_features=768, out_features=768, bias=True)\n",
              "              (key): Linear(in_features=768, out_features=768, bias=True)\n",
              "              (value): Linear(in_features=768, out_features=768, bias=True)\n",
              "              (dropout): Dropout(p=0.1, inplace=False)\n",
              "            )\n",
              "            (output): RobertaSelfOutput(\n",
              "              (dense): Linear(in_features=768, out_features=768, bias=True)\n",
              "              (LayerNorm): LayerNorm((768,), eps=1e-05, elementwise_affine=True)\n",
              "              (dropout): Dropout(p=0.1, inplace=False)\n",
              "            )\n",
              "          )\n",
              "          (intermediate): RobertaIntermediate(\n",
              "            (dense): Linear(in_features=768, out_features=3072, bias=True)\n",
              "          )\n",
              "          (output): RobertaOutput(\n",
              "            (dense): Linear(in_features=3072, out_features=768, bias=True)\n",
              "            (LayerNorm): LayerNorm((768,), eps=1e-05, elementwise_affine=True)\n",
              "            (dropout): Dropout(p=0.1, inplace=False)\n",
              "          )\n",
              "        )\n",
              "        (2): RobertaLayer(\n",
              "          (attention): RobertaAttention(\n",
              "            (self): RobertaSelfAttention(\n",
              "              (query): Linear(in_features=768, out_features=768, bias=True)\n",
              "              (key): Linear(in_features=768, out_features=768, bias=True)\n",
              "              (value): Linear(in_features=768, out_features=768, bias=True)\n",
              "              (dropout): Dropout(p=0.1, inplace=False)\n",
              "            )\n",
              "            (output): RobertaSelfOutput(\n",
              "              (dense): Linear(in_features=768, out_features=768, bias=True)\n",
              "              (LayerNorm): LayerNorm((768,), eps=1e-05, elementwise_affine=True)\n",
              "              (dropout): Dropout(p=0.1, inplace=False)\n",
              "            )\n",
              "          )\n",
              "          (intermediate): RobertaIntermediate(\n",
              "            (dense): Linear(in_features=768, out_features=3072, bias=True)\n",
              "          )\n",
              "          (output): RobertaOutput(\n",
              "            (dense): Linear(in_features=3072, out_features=768, bias=True)\n",
              "            (LayerNorm): LayerNorm((768,), eps=1e-05, elementwise_affine=True)\n",
              "            (dropout): Dropout(p=0.1, inplace=False)\n",
              "          )\n",
              "        )\n",
              "        (3): RobertaLayer(\n",
              "          (attention): RobertaAttention(\n",
              "            (self): RobertaSelfAttention(\n",
              "              (query): Linear(in_features=768, out_features=768, bias=True)\n",
              "              (key): Linear(in_features=768, out_features=768, bias=True)\n",
              "              (value): Linear(in_features=768, out_features=768, bias=True)\n",
              "              (dropout): Dropout(p=0.1, inplace=False)\n",
              "            )\n",
              "            (output): RobertaSelfOutput(\n",
              "              (dense): Linear(in_features=768, out_features=768, bias=True)\n",
              "              (LayerNorm): LayerNorm((768,), eps=1e-05, elementwise_affine=True)\n",
              "              (dropout): Dropout(p=0.1, inplace=False)\n",
              "            )\n",
              "          )\n",
              "          (intermediate): RobertaIntermediate(\n",
              "            (dense): Linear(in_features=768, out_features=3072, bias=True)\n",
              "          )\n",
              "          (output): RobertaOutput(\n",
              "            (dense): Linear(in_features=3072, out_features=768, bias=True)\n",
              "            (LayerNorm): LayerNorm((768,), eps=1e-05, elementwise_affine=True)\n",
              "            (dropout): Dropout(p=0.1, inplace=False)\n",
              "          )\n",
              "        )\n",
              "        (4): RobertaLayer(\n",
              "          (attention): RobertaAttention(\n",
              "            (self): RobertaSelfAttention(\n",
              "              (query): Linear(in_features=768, out_features=768, bias=True)\n",
              "              (key): Linear(in_features=768, out_features=768, bias=True)\n",
              "              (value): Linear(in_features=768, out_features=768, bias=True)\n",
              "              (dropout): Dropout(p=0.1, inplace=False)\n",
              "            )\n",
              "            (output): RobertaSelfOutput(\n",
              "              (dense): Linear(in_features=768, out_features=768, bias=True)\n",
              "              (LayerNorm): LayerNorm((768,), eps=1e-05, elementwise_affine=True)\n",
              "              (dropout): Dropout(p=0.1, inplace=False)\n",
              "            )\n",
              "          )\n",
              "          (intermediate): RobertaIntermediate(\n",
              "            (dense): Linear(in_features=768, out_features=3072, bias=True)\n",
              "          )\n",
              "          (output): RobertaOutput(\n",
              "            (dense): Linear(in_features=3072, out_features=768, bias=True)\n",
              "            (LayerNorm): LayerNorm((768,), eps=1e-05, elementwise_affine=True)\n",
              "            (dropout): Dropout(p=0.1, inplace=False)\n",
              "          )\n",
              "        )\n",
              "        (5): RobertaLayer(\n",
              "          (attention): RobertaAttention(\n",
              "            (self): RobertaSelfAttention(\n",
              "              (query): Linear(in_features=768, out_features=768, bias=True)\n",
              "              (key): Linear(in_features=768, out_features=768, bias=True)\n",
              "              (value): Linear(in_features=768, out_features=768, bias=True)\n",
              "              (dropout): Dropout(p=0.1, inplace=False)\n",
              "            )\n",
              "            (output): RobertaSelfOutput(\n",
              "              (dense): Linear(in_features=768, out_features=768, bias=True)\n",
              "              (LayerNorm): LayerNorm((768,), eps=1e-05, elementwise_affine=True)\n",
              "              (dropout): Dropout(p=0.1, inplace=False)\n",
              "            )\n",
              "          )\n",
              "          (intermediate): RobertaIntermediate(\n",
              "            (dense): Linear(in_features=768, out_features=3072, bias=True)\n",
              "          )\n",
              "          (output): RobertaOutput(\n",
              "            (dense): Linear(in_features=3072, out_features=768, bias=True)\n",
              "            (LayerNorm): LayerNorm((768,), eps=1e-05, elementwise_affine=True)\n",
              "            (dropout): Dropout(p=0.1, inplace=False)\n",
              "          )\n",
              "        )\n",
              "        (6): RobertaLayer(\n",
              "          (attention): RobertaAttention(\n",
              "            (self): RobertaSelfAttention(\n",
              "              (query): Linear(in_features=768, out_features=768, bias=True)\n",
              "              (key): Linear(in_features=768, out_features=768, bias=True)\n",
              "              (value): Linear(in_features=768, out_features=768, bias=True)\n",
              "              (dropout): Dropout(p=0.1, inplace=False)\n",
              "            )\n",
              "            (output): RobertaSelfOutput(\n",
              "              (dense): Linear(in_features=768, out_features=768, bias=True)\n",
              "              (LayerNorm): LayerNorm((768,), eps=1e-05, elementwise_affine=True)\n",
              "              (dropout): Dropout(p=0.1, inplace=False)\n",
              "            )\n",
              "          )\n",
              "          (intermediate): RobertaIntermediate(\n",
              "            (dense): Linear(in_features=768, out_features=3072, bias=True)\n",
              "          )\n",
              "          (output): RobertaOutput(\n",
              "            (dense): Linear(in_features=3072, out_features=768, bias=True)\n",
              "            (LayerNorm): LayerNorm((768,), eps=1e-05, elementwise_affine=True)\n",
              "            (dropout): Dropout(p=0.1, inplace=False)\n",
              "          )\n",
              "        )\n",
              "        (7): RobertaLayer(\n",
              "          (attention): RobertaAttention(\n",
              "            (self): RobertaSelfAttention(\n",
              "              (query): Linear(in_features=768, out_features=768, bias=True)\n",
              "              (key): Linear(in_features=768, out_features=768, bias=True)\n",
              "              (value): Linear(in_features=768, out_features=768, bias=True)\n",
              "              (dropout): Dropout(p=0.1, inplace=False)\n",
              "            )\n",
              "            (output): RobertaSelfOutput(\n",
              "              (dense): Linear(in_features=768, out_features=768, bias=True)\n",
              "              (LayerNorm): LayerNorm((768,), eps=1e-05, elementwise_affine=True)\n",
              "              (dropout): Dropout(p=0.1, inplace=False)\n",
              "            )\n",
              "          )\n",
              "          (intermediate): RobertaIntermediate(\n",
              "            (dense): Linear(in_features=768, out_features=3072, bias=True)\n",
              "          )\n",
              "          (output): RobertaOutput(\n",
              "            (dense): Linear(in_features=3072, out_features=768, bias=True)\n",
              "            (LayerNorm): LayerNorm((768,), eps=1e-05, elementwise_affine=True)\n",
              "            (dropout): Dropout(p=0.1, inplace=False)\n",
              "          )\n",
              "        )\n",
              "        (8): RobertaLayer(\n",
              "          (attention): RobertaAttention(\n",
              "            (self): RobertaSelfAttention(\n",
              "              (query): Linear(in_features=768, out_features=768, bias=True)\n",
              "              (key): Linear(in_features=768, out_features=768, bias=True)\n",
              "              (value): Linear(in_features=768, out_features=768, bias=True)\n",
              "              (dropout): Dropout(p=0.1, inplace=False)\n",
              "            )\n",
              "            (output): RobertaSelfOutput(\n",
              "              (dense): Linear(in_features=768, out_features=768, bias=True)\n",
              "              (LayerNorm): LayerNorm((768,), eps=1e-05, elementwise_affine=True)\n",
              "              (dropout): Dropout(p=0.1, inplace=False)\n",
              "            )\n",
              "          )\n",
              "          (intermediate): RobertaIntermediate(\n",
              "            (dense): Linear(in_features=768, out_features=3072, bias=True)\n",
              "          )\n",
              "          (output): RobertaOutput(\n",
              "            (dense): Linear(in_features=3072, out_features=768, bias=True)\n",
              "            (LayerNorm): LayerNorm((768,), eps=1e-05, elementwise_affine=True)\n",
              "            (dropout): Dropout(p=0.1, inplace=False)\n",
              "          )\n",
              "        )\n",
              "        (9): RobertaLayer(\n",
              "          (attention): RobertaAttention(\n",
              "            (self): RobertaSelfAttention(\n",
              "              (query): Linear(in_features=768, out_features=768, bias=True)\n",
              "              (key): Linear(in_features=768, out_features=768, bias=True)\n",
              "              (value): Linear(in_features=768, out_features=768, bias=True)\n",
              "              (dropout): Dropout(p=0.1, inplace=False)\n",
              "            )\n",
              "            (output): RobertaSelfOutput(\n",
              "              (dense): Linear(in_features=768, out_features=768, bias=True)\n",
              "              (LayerNorm): LayerNorm((768,), eps=1e-05, elementwise_affine=True)\n",
              "              (dropout): Dropout(p=0.1, inplace=False)\n",
              "            )\n",
              "          )\n",
              "          (intermediate): RobertaIntermediate(\n",
              "            (dense): Linear(in_features=768, out_features=3072, bias=True)\n",
              "          )\n",
              "          (output): RobertaOutput(\n",
              "            (dense): Linear(in_features=3072, out_features=768, bias=True)\n",
              "            (LayerNorm): LayerNorm((768,), eps=1e-05, elementwise_affine=True)\n",
              "            (dropout): Dropout(p=0.1, inplace=False)\n",
              "          )\n",
              "        )\n",
              "        (10): RobertaLayer(\n",
              "          (attention): RobertaAttention(\n",
              "            (self): RobertaSelfAttention(\n",
              "              (query): Linear(in_features=768, out_features=768, bias=True)\n",
              "              (key): Linear(in_features=768, out_features=768, bias=True)\n",
              "              (value): Linear(in_features=768, out_features=768, bias=True)\n",
              "              (dropout): Dropout(p=0.1, inplace=False)\n",
              "            )\n",
              "            (output): RobertaSelfOutput(\n",
              "              (dense): Linear(in_features=768, out_features=768, bias=True)\n",
              "              (LayerNorm): LayerNorm((768,), eps=1e-05, elementwise_affine=True)\n",
              "              (dropout): Dropout(p=0.1, inplace=False)\n",
              "            )\n",
              "          )\n",
              "          (intermediate): RobertaIntermediate(\n",
              "            (dense): Linear(in_features=768, out_features=3072, bias=True)\n",
              "          )\n",
              "          (output): RobertaOutput(\n",
              "            (dense): Linear(in_features=3072, out_features=768, bias=True)\n",
              "            (LayerNorm): LayerNorm((768,), eps=1e-05, elementwise_affine=True)\n",
              "            (dropout): Dropout(p=0.1, inplace=False)\n",
              "          )\n",
              "        )\n",
              "        (11): RobertaLayer(\n",
              "          (attention): RobertaAttention(\n",
              "            (self): RobertaSelfAttention(\n",
              "              (query): Linear(in_features=768, out_features=768, bias=True)\n",
              "              (key): Linear(in_features=768, out_features=768, bias=True)\n",
              "              (value): Linear(in_features=768, out_features=768, bias=True)\n",
              "              (dropout): Dropout(p=0.1, inplace=False)\n",
              "            )\n",
              "            (output): RobertaSelfOutput(\n",
              "              (dense): Linear(in_features=768, out_features=768, bias=True)\n",
              "              (LayerNorm): LayerNorm((768,), eps=1e-05, elementwise_affine=True)\n",
              "              (dropout): Dropout(p=0.1, inplace=False)\n",
              "            )\n",
              "          )\n",
              "          (intermediate): RobertaIntermediate(\n",
              "            (dense): Linear(in_features=768, out_features=3072, bias=True)\n",
              "          )\n",
              "          (output): RobertaOutput(\n",
              "            (dense): Linear(in_features=3072, out_features=768, bias=True)\n",
              "            (LayerNorm): LayerNorm((768,), eps=1e-05, elementwise_affine=True)\n",
              "            (dropout): Dropout(p=0.1, inplace=False)\n",
              "          )\n",
              "        )\n",
              "      )\n",
              "    )\n",
              "    (pooler): RobertaPooler(\n",
              "      (dense): Linear(in_features=768, out_features=768, bias=True)\n",
              "      (activation): Tanh()\n",
              "    )\n",
              "  )\n",
              "  (lstm): LSTM(768, 512, num_layers=2, batch_first=True, bidirectional=True)\n",
              "  (linear): Sequential(\n",
              "    (0): Linear(in_features=2048, out_features=512, bias=True)\n",
              "    (1): LayerNorm((512,), eps=1e-05, elementwise_affine=True)\n",
              "    (2): ReLU()\n",
              "    (3): Linear(in_features=512, out_features=10, bias=True)\n",
              "  )\n",
              ")"
            ]
          },
          "metadata": {
            "tags": []
          },
          "execution_count": 21
        }
      ]
    },
    {
      "cell_type": "code",
      "metadata": {
        "id": "1_tnzDov0jjp"
      },
      "source": [
        "def evaluate(data_loader):\n",
        "  final_preds=[]\n",
        "  final_true=[]\n",
        "  for idx,(x_batch,y_batch) in enumerate(data_loader):\n",
        "    x_batch=x_batch.to(device)\n",
        "    y_batch=y_batch.to(device)\n",
        "    outputs=model(x_batch)\n",
        "    outputs=torch.softmax(outputs,dim=1)\n",
        "    preds=torch.argmax(outputs,dim=1)\n",
        "    final_preds.extend(preds.cpu().numpy().tolist())\n",
        "    final_true.extend(y_batch.cpu().numpy().tolist())\n",
        "    if idx%100==0:\n",
        "      print(idx,end=' ')\n",
        "  return final_true,final_preds"
      ],
      "execution_count": 22,
      "outputs": []
    },
    {
      "cell_type": "code",
      "metadata": {
        "colab": {
          "base_uri": "https://localhost:8080/"
        },
        "id": "osJlgpww03F1",
        "outputId": "4cad020c-c7bc-4fa8-e09e-8936742b6c80"
      },
      "source": [
        "final_true_val,final_preds_val=evaluate(val_loader)"
      ],
      "execution_count": 24,
      "outputs": [
        {
          "output_type": "stream",
          "text": [
            "0 100 200 300 400 "
          ],
          "name": "stdout"
        }
      ]
    },
    {
      "cell_type": "code",
      "metadata": {
        "colab": {
          "base_uri": "https://localhost:8080/"
        },
        "id": "RD3OzdwG1qLX",
        "outputId": "4a557929-a089-4907-df52-c0c8e8d84af2"
      },
      "source": [
        "final_true_test,final_true_preds=evaluate(test_loader)"
      ],
      "execution_count": 25,
      "outputs": [
        {
          "output_type": "stream",
          "text": [
            "0 100 200 300 400 500 600 700 800 900 1000 1100 1200 1300 1400 1500 1600 1700 1800 1900 2000 2100 2200 2300 2400 2500 2600 2700 2800 2900 3000 3100 "
          ],
          "name": "stdout"
        }
      ]
    },
    {
      "cell_type": "code",
      "metadata": {
        "id": "lMPXivJp2DR1"
      },
      "source": [
        "def show_result(y_true,y_preds):\n",
        "  print(accuracy_score(y_true,y_preds))\n",
        "  print(precision_score(y_true,y_preds,average='weighted'))\n",
        "  print(recall_score(y_true,y_preds,average='weighted'))\n",
        "  print(f1_score(y_true,y_preds,average='weighted'))"
      ],
      "execution_count": 27,
      "outputs": []
    },
    {
      "cell_type": "code",
      "metadata": {
        "colab": {
          "base_uri": "https://localhost:8080/"
        },
        "id": "rcjIZ4jg3OLQ",
        "outputId": "c9467332-05e8-4587-962a-9add5d0a7814"
      },
      "source": [
        "print(classification_report(final_true_val,final_preds_val,target_names=list(labels.values())))"
      ],
      "execution_count": 28,
      "outputs": [
        {
          "output_type": "stream",
          "text": [
            "                  precision    recall  f1-score   support\n",
            "\n",
            "         Van hoa       0.95      0.93      0.94       616\n",
            "Chinh tri Xa hoi       0.87      0.81      0.84      1043\n",
            "        Khoa hoc       0.91      0.79      0.85       364\n",
            "       Phap luat       0.92      0.93      0.93       773\n",
            "         Vi tinh       0.96      0.95      0.95       496\n",
            "        Suc khoe       0.89      0.97      0.93       676\n",
            "      Kinh doanh       0.82      0.92      0.87       510\n",
            "        The thao       0.99      0.99      0.99      1059\n",
            "        The gioi       0.95      0.90      0.92       579\n",
            "        Doi song       0.85      0.91      0.88       631\n",
            "\n",
            "        accuracy                           0.91      6747\n",
            "       macro avg       0.91      0.91      0.91      6747\n",
            "    weighted avg       0.91      0.91      0.91      6747\n",
            "\n"
          ],
          "name": "stdout"
        }
      ]
    },
    {
      "cell_type": "code",
      "metadata": {
        "colab": {
          "base_uri": "https://localhost:8080/"
        },
        "id": "NBiI0TB33maH",
        "outputId": "2449c324-4595-463a-ed21-3fbcdda436be"
      },
      "source": [
        "print(classification_report(final_true_test,final_true_preds,target_names=list(labels.values())))"
      ],
      "execution_count": 29,
      "outputs": [
        {
          "output_type": "stream",
          "text": [
            "                  precision    recall  f1-score   support\n",
            "\n",
            "         Van hoa       0.93      0.95      0.94      6250\n",
            "Chinh tri Xa hoi       0.89      0.85      0.87      7567\n",
            "        Khoa hoc       0.85      0.75      0.80      2096\n",
            "       Phap luat       0.89      0.92      0.91      3788\n",
            "         Vi tinh       0.94      0.95      0.94      4560\n",
            "        Suc khoe       0.91      0.95      0.93      5417\n",
            "      Kinh doanh       0.87      0.92      0.89      5276\n",
            "        The thao       0.98      0.99      0.98      6667\n",
            "        The gioi       0.96      0.92      0.94      6716\n",
            "        Doi song       0.72      0.70      0.71      2036\n",
            "\n",
            "        accuracy                           0.91     50373\n",
            "       macro avg       0.89      0.89      0.89     50373\n",
            "    weighted avg       0.91      0.91      0.91     50373\n",
            "\n"
          ],
          "name": "stdout"
        }
      ]
    },
    {
      "cell_type": "code",
      "metadata": {
        "colab": {
          "base_uri": "https://localhost:8080/"
        },
        "id": "N59k9HoK2z8o",
        "outputId": "b2d7d1b0-2495-44a3-dd25-6e4bb82df339"
      },
      "source": [
        "show_result(final_true_test,final_true_preds)"
      ],
      "execution_count": 30,
      "outputs": [
        {
          "output_type": "stream",
          "text": [
            "0.9122148770174499\n",
            "0.9119381121434791\n",
            "0.9122148770174499\n",
            "0.9116690540717909\n"
          ],
          "name": "stdout"
        }
      ]
    },
    {
      "cell_type": "code",
      "metadata": {
        "id": "LV3PPkDU3F9u"
      },
      "source": [
        "def plot(final_true,final_preds,file_name):\n",
        "  temp=confusion_matrix(final_true,final_preds)\n",
        "  df=pd.DataFrame(temp,index=labels.values(),columns=labels.values()).astype(int)\n",
        "  plt.figure(figsize=(12,8))\n",
        "  heatmap=sns.heatmap(df,annot=True,fmt=\"d\")\n",
        "  heatmap.yaxis.set_ticklabels(heatmap.yaxis.get_ticklabels(),rotation=0,ha='right')\n",
        "  heatmap.xaxis.set_ticklabels(heatmap.xaxis.get_ticklabels(),rotation=45,ha='right')\n",
        "  plt.ylabel('True label')\n",
        "  plt.xlabel('Predicted label')\n",
        "  result=accuracy_score(final_true,final_preds)\n",
        "  plt.title(\"Accuracy for test:{:0.5f}\".format(result))\n",
        "  plt.savefig('/content/drive/MyDrive/Viettel3/Bert/{}'.format(file_name))"
      ],
      "execution_count": null,
      "outputs": []
    },
    {
      "cell_type": "code",
      "metadata": {
        "id": "WiPoqPop3sbk"
      },
      "source": [
        "plot(final_true_val,final_preds_val,'bert_val.png')"
      ],
      "execution_count": null,
      "outputs": []
    },
    {
      "cell_type": "code",
      "metadata": {
        "id": "9x-P4j6X31Uu"
      },
      "source": [
        "plot(final_true_test,final_true_preds,'bert_test.png')"
      ],
      "execution_count": null,
      "outputs": []
    }
  ]
}