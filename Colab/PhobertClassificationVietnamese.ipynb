{
  "nbformat": 4,
  "nbformat_minor": 0,
  "metadata": {
    "colab": {
      "name": "PhobertClassificationVietnamese.ipynb",
      "provenance": [],
      "collapsed_sections": []
    },
    "kernelspec": {
      "name": "python3",
      "display_name": "Python 3"
    },
    "language_info": {
      "name": "python"
    },
    "accelerator": "GPU",
    "widgets": {
      "application/vnd.jupyter.widget-state+json": {
        "6eff0557d1864ed6a319d61de3a8a462": {
          "model_module": "@jupyter-widgets/controls",
          "model_name": "HBoxModel",
          "state": {
            "_view_name": "HBoxView",
            "_dom_classes": [],
            "_model_name": "HBoxModel",
            "_view_module": "@jupyter-widgets/controls",
            "_model_module_version": "1.5.0",
            "_view_count": null,
            "_view_module_version": "1.5.0",
            "box_style": "",
            "layout": "IPY_MODEL_2425721fd43246089460212d7dd035e6",
            "_model_module": "@jupyter-widgets/controls",
            "children": [
              "IPY_MODEL_d2951c851b874d7c97178354c278901a",
              "IPY_MODEL_d9ad2ad3189b41a79d6b8522ad6c8753"
            ]
          }
        },
        "2425721fd43246089460212d7dd035e6": {
          "model_module": "@jupyter-widgets/base",
          "model_name": "LayoutModel",
          "state": {
            "_view_name": "LayoutView",
            "grid_template_rows": null,
            "right": null,
            "justify_content": null,
            "_view_module": "@jupyter-widgets/base",
            "overflow": null,
            "_model_module_version": "1.2.0",
            "_view_count": null,
            "flex_flow": null,
            "width": null,
            "min_width": null,
            "border": null,
            "align_items": null,
            "bottom": null,
            "_model_module": "@jupyter-widgets/base",
            "top": null,
            "grid_column": null,
            "overflow_y": null,
            "overflow_x": null,
            "grid_auto_flow": null,
            "grid_area": null,
            "grid_template_columns": null,
            "flex": null,
            "_model_name": "LayoutModel",
            "justify_items": null,
            "grid_row": null,
            "max_height": null,
            "align_content": null,
            "visibility": null,
            "align_self": null,
            "height": null,
            "min_height": null,
            "padding": null,
            "grid_auto_rows": null,
            "grid_gap": null,
            "max_width": null,
            "order": null,
            "_view_module_version": "1.2.0",
            "grid_template_areas": null,
            "object_position": null,
            "object_fit": null,
            "grid_auto_columns": null,
            "margin": null,
            "display": null,
            "left": null
          }
        },
        "d2951c851b874d7c97178354c278901a": {
          "model_module": "@jupyter-widgets/controls",
          "model_name": "FloatProgressModel",
          "state": {
            "_view_name": "ProgressView",
            "style": "IPY_MODEL_d89fe4ab72444374a9609a08d34703a9",
            "_dom_classes": [],
            "description": "Downloading: 100%",
            "_model_name": "FloatProgressModel",
            "bar_style": "success",
            "max": 557,
            "_view_module": "@jupyter-widgets/controls",
            "_model_module_version": "1.5.0",
            "value": 557,
            "_view_count": null,
            "_view_module_version": "1.5.0",
            "orientation": "horizontal",
            "min": 0,
            "description_tooltip": null,
            "_model_module": "@jupyter-widgets/controls",
            "layout": "IPY_MODEL_4dbffd1f86194c599e66591aa7e35242"
          }
        },
        "d9ad2ad3189b41a79d6b8522ad6c8753": {
          "model_module": "@jupyter-widgets/controls",
          "model_name": "HTMLModel",
          "state": {
            "_view_name": "HTMLView",
            "style": "IPY_MODEL_abf11f9c010742d1b5bf6f90228b4684",
            "_dom_classes": [],
            "description": "",
            "_model_name": "HTMLModel",
            "placeholder": "​",
            "_view_module": "@jupyter-widgets/controls",
            "_model_module_version": "1.5.0",
            "value": " 557/557 [00:12&lt;00:00, 45.1B/s]",
            "_view_count": null,
            "_view_module_version": "1.5.0",
            "description_tooltip": null,
            "_model_module": "@jupyter-widgets/controls",
            "layout": "IPY_MODEL_b981988fc15c4df38095d2ea63f2a12c"
          }
        },
        "d89fe4ab72444374a9609a08d34703a9": {
          "model_module": "@jupyter-widgets/controls",
          "model_name": "ProgressStyleModel",
          "state": {
            "_view_name": "StyleView",
            "_model_name": "ProgressStyleModel",
            "description_width": "initial",
            "_view_module": "@jupyter-widgets/base",
            "_model_module_version": "1.5.0",
            "_view_count": null,
            "_view_module_version": "1.2.0",
            "bar_color": null,
            "_model_module": "@jupyter-widgets/controls"
          }
        },
        "4dbffd1f86194c599e66591aa7e35242": {
          "model_module": "@jupyter-widgets/base",
          "model_name": "LayoutModel",
          "state": {
            "_view_name": "LayoutView",
            "grid_template_rows": null,
            "right": null,
            "justify_content": null,
            "_view_module": "@jupyter-widgets/base",
            "overflow": null,
            "_model_module_version": "1.2.0",
            "_view_count": null,
            "flex_flow": null,
            "width": null,
            "min_width": null,
            "border": null,
            "align_items": null,
            "bottom": null,
            "_model_module": "@jupyter-widgets/base",
            "top": null,
            "grid_column": null,
            "overflow_y": null,
            "overflow_x": null,
            "grid_auto_flow": null,
            "grid_area": null,
            "grid_template_columns": null,
            "flex": null,
            "_model_name": "LayoutModel",
            "justify_items": null,
            "grid_row": null,
            "max_height": null,
            "align_content": null,
            "visibility": null,
            "align_self": null,
            "height": null,
            "min_height": null,
            "padding": null,
            "grid_auto_rows": null,
            "grid_gap": null,
            "max_width": null,
            "order": null,
            "_view_module_version": "1.2.0",
            "grid_template_areas": null,
            "object_position": null,
            "object_fit": null,
            "grid_auto_columns": null,
            "margin": null,
            "display": null,
            "left": null
          }
        },
        "abf11f9c010742d1b5bf6f90228b4684": {
          "model_module": "@jupyter-widgets/controls",
          "model_name": "DescriptionStyleModel",
          "state": {
            "_view_name": "StyleView",
            "_model_name": "DescriptionStyleModel",
            "description_width": "",
            "_view_module": "@jupyter-widgets/base",
            "_model_module_version": "1.5.0",
            "_view_count": null,
            "_view_module_version": "1.2.0",
            "_model_module": "@jupyter-widgets/controls"
          }
        },
        "b981988fc15c4df38095d2ea63f2a12c": {
          "model_module": "@jupyter-widgets/base",
          "model_name": "LayoutModel",
          "state": {
            "_view_name": "LayoutView",
            "grid_template_rows": null,
            "right": null,
            "justify_content": null,
            "_view_module": "@jupyter-widgets/base",
            "overflow": null,
            "_model_module_version": "1.2.0",
            "_view_count": null,
            "flex_flow": null,
            "width": null,
            "min_width": null,
            "border": null,
            "align_items": null,
            "bottom": null,
            "_model_module": "@jupyter-widgets/base",
            "top": null,
            "grid_column": null,
            "overflow_y": null,
            "overflow_x": null,
            "grid_auto_flow": null,
            "grid_area": null,
            "grid_template_columns": null,
            "flex": null,
            "_model_name": "LayoutModel",
            "justify_items": null,
            "grid_row": null,
            "max_height": null,
            "align_content": null,
            "visibility": null,
            "align_self": null,
            "height": null,
            "min_height": null,
            "padding": null,
            "grid_auto_rows": null,
            "grid_gap": null,
            "max_width": null,
            "order": null,
            "_view_module_version": "1.2.0",
            "grid_template_areas": null,
            "object_position": null,
            "object_fit": null,
            "grid_auto_columns": null,
            "margin": null,
            "display": null,
            "left": null
          }
        },
        "a07ac3ff692a406dafda68b9086c8a9c": {
          "model_module": "@jupyter-widgets/controls",
          "model_name": "HBoxModel",
          "state": {
            "_view_name": "HBoxView",
            "_dom_classes": [],
            "_model_name": "HBoxModel",
            "_view_module": "@jupyter-widgets/controls",
            "_model_module_version": "1.5.0",
            "_view_count": null,
            "_view_module_version": "1.5.0",
            "box_style": "",
            "layout": "IPY_MODEL_598b3152f0c04c58afad2e53f88bad29",
            "_model_module": "@jupyter-widgets/controls",
            "children": [
              "IPY_MODEL_762dae00b629462ebb6ff4ef8d561baa",
              "IPY_MODEL_bfd3fda8460a4fe9a08a24d197c8fe30"
            ]
          }
        },
        "598b3152f0c04c58afad2e53f88bad29": {
          "model_module": "@jupyter-widgets/base",
          "model_name": "LayoutModel",
          "state": {
            "_view_name": "LayoutView",
            "grid_template_rows": null,
            "right": null,
            "justify_content": null,
            "_view_module": "@jupyter-widgets/base",
            "overflow": null,
            "_model_module_version": "1.2.0",
            "_view_count": null,
            "flex_flow": null,
            "width": null,
            "min_width": null,
            "border": null,
            "align_items": null,
            "bottom": null,
            "_model_module": "@jupyter-widgets/base",
            "top": null,
            "grid_column": null,
            "overflow_y": null,
            "overflow_x": null,
            "grid_auto_flow": null,
            "grid_area": null,
            "grid_template_columns": null,
            "flex": null,
            "_model_name": "LayoutModel",
            "justify_items": null,
            "grid_row": null,
            "max_height": null,
            "align_content": null,
            "visibility": null,
            "align_self": null,
            "height": null,
            "min_height": null,
            "padding": null,
            "grid_auto_rows": null,
            "grid_gap": null,
            "max_width": null,
            "order": null,
            "_view_module_version": "1.2.0",
            "grid_template_areas": null,
            "object_position": null,
            "object_fit": null,
            "grid_auto_columns": null,
            "margin": null,
            "display": null,
            "left": null
          }
        },
        "762dae00b629462ebb6ff4ef8d561baa": {
          "model_module": "@jupyter-widgets/controls",
          "model_name": "FloatProgressModel",
          "state": {
            "_view_name": "ProgressView",
            "style": "IPY_MODEL_a829370d453c403ab3efd486d6032968",
            "_dom_classes": [],
            "description": "Downloading: 100%",
            "_model_name": "FloatProgressModel",
            "bar_style": "success",
            "max": 542923308,
            "_view_module": "@jupyter-widgets/controls",
            "_model_module_version": "1.5.0",
            "value": 542923308,
            "_view_count": null,
            "_view_module_version": "1.5.0",
            "orientation": "horizontal",
            "min": 0,
            "description_tooltip": null,
            "_model_module": "@jupyter-widgets/controls",
            "layout": "IPY_MODEL_8f77929a99b74902b86f2d3c342116d1"
          }
        },
        "bfd3fda8460a4fe9a08a24d197c8fe30": {
          "model_module": "@jupyter-widgets/controls",
          "model_name": "HTMLModel",
          "state": {
            "_view_name": "HTMLView",
            "style": "IPY_MODEL_e5d8c4a7548140a6af8aeab4f611ff94",
            "_dom_classes": [],
            "description": "",
            "_model_name": "HTMLModel",
            "placeholder": "​",
            "_view_module": "@jupyter-widgets/controls",
            "_model_module_version": "1.5.0",
            "value": " 543M/543M [00:11&lt;00:00, 46.0MB/s]",
            "_view_count": null,
            "_view_module_version": "1.5.0",
            "description_tooltip": null,
            "_model_module": "@jupyter-widgets/controls",
            "layout": "IPY_MODEL_7caf5a2901254c6ba8a710641f677e68"
          }
        },
        "a829370d453c403ab3efd486d6032968": {
          "model_module": "@jupyter-widgets/controls",
          "model_name": "ProgressStyleModel",
          "state": {
            "_view_name": "StyleView",
            "_model_name": "ProgressStyleModel",
            "description_width": "initial",
            "_view_module": "@jupyter-widgets/base",
            "_model_module_version": "1.5.0",
            "_view_count": null,
            "_view_module_version": "1.2.0",
            "bar_color": null,
            "_model_module": "@jupyter-widgets/controls"
          }
        },
        "8f77929a99b74902b86f2d3c342116d1": {
          "model_module": "@jupyter-widgets/base",
          "model_name": "LayoutModel",
          "state": {
            "_view_name": "LayoutView",
            "grid_template_rows": null,
            "right": null,
            "justify_content": null,
            "_view_module": "@jupyter-widgets/base",
            "overflow": null,
            "_model_module_version": "1.2.0",
            "_view_count": null,
            "flex_flow": null,
            "width": null,
            "min_width": null,
            "border": null,
            "align_items": null,
            "bottom": null,
            "_model_module": "@jupyter-widgets/base",
            "top": null,
            "grid_column": null,
            "overflow_y": null,
            "overflow_x": null,
            "grid_auto_flow": null,
            "grid_area": null,
            "grid_template_columns": null,
            "flex": null,
            "_model_name": "LayoutModel",
            "justify_items": null,
            "grid_row": null,
            "max_height": null,
            "align_content": null,
            "visibility": null,
            "align_self": null,
            "height": null,
            "min_height": null,
            "padding": null,
            "grid_auto_rows": null,
            "grid_gap": null,
            "max_width": null,
            "order": null,
            "_view_module_version": "1.2.0",
            "grid_template_areas": null,
            "object_position": null,
            "object_fit": null,
            "grid_auto_columns": null,
            "margin": null,
            "display": null,
            "left": null
          }
        },
        "e5d8c4a7548140a6af8aeab4f611ff94": {
          "model_module": "@jupyter-widgets/controls",
          "model_name": "DescriptionStyleModel",
          "state": {
            "_view_name": "StyleView",
            "_model_name": "DescriptionStyleModel",
            "description_width": "",
            "_view_module": "@jupyter-widgets/base",
            "_model_module_version": "1.5.0",
            "_view_count": null,
            "_view_module_version": "1.2.0",
            "_model_module": "@jupyter-widgets/controls"
          }
        },
        "7caf5a2901254c6ba8a710641f677e68": {
          "model_module": "@jupyter-widgets/base",
          "model_name": "LayoutModel",
          "state": {
            "_view_name": "LayoutView",
            "grid_template_rows": null,
            "right": null,
            "justify_content": null,
            "_view_module": "@jupyter-widgets/base",
            "overflow": null,
            "_model_module_version": "1.2.0",
            "_view_count": null,
            "flex_flow": null,
            "width": null,
            "min_width": null,
            "border": null,
            "align_items": null,
            "bottom": null,
            "_model_module": "@jupyter-widgets/base",
            "top": null,
            "grid_column": null,
            "overflow_y": null,
            "overflow_x": null,
            "grid_auto_flow": null,
            "grid_area": null,
            "grid_template_columns": null,
            "flex": null,
            "_model_name": "LayoutModel",
            "justify_items": null,
            "grid_row": null,
            "max_height": null,
            "align_content": null,
            "visibility": null,
            "align_self": null,
            "height": null,
            "min_height": null,
            "padding": null,
            "grid_auto_rows": null,
            "grid_gap": null,
            "max_width": null,
            "order": null,
            "_view_module_version": "1.2.0",
            "grid_template_areas": null,
            "object_position": null,
            "object_fit": null,
            "grid_auto_columns": null,
            "margin": null,
            "display": null,
            "left": null
          }
        },
        "35d4209bdaeb484e8e22f199452f5625": {
          "model_module": "@jupyter-widgets/controls",
          "model_name": "HBoxModel",
          "state": {
            "_view_name": "HBoxView",
            "_dom_classes": [],
            "_model_name": "HBoxModel",
            "_view_module": "@jupyter-widgets/controls",
            "_model_module_version": "1.5.0",
            "_view_count": null,
            "_view_module_version": "1.5.0",
            "box_style": "",
            "layout": "IPY_MODEL_c808574c2a3542b1b8c3738b5f96a5d4",
            "_model_module": "@jupyter-widgets/controls",
            "children": [
              "IPY_MODEL_8dec7c4c42dc4ba3b72fc4f5048b8d1e",
              "IPY_MODEL_f2db70969ba94482847daef9029f99e9"
            ]
          }
        },
        "c808574c2a3542b1b8c3738b5f96a5d4": {
          "model_module": "@jupyter-widgets/base",
          "model_name": "LayoutModel",
          "state": {
            "_view_name": "LayoutView",
            "grid_template_rows": null,
            "right": null,
            "justify_content": null,
            "_view_module": "@jupyter-widgets/base",
            "overflow": null,
            "_model_module_version": "1.2.0",
            "_view_count": null,
            "flex_flow": null,
            "width": null,
            "min_width": null,
            "border": null,
            "align_items": null,
            "bottom": null,
            "_model_module": "@jupyter-widgets/base",
            "top": null,
            "grid_column": null,
            "overflow_y": null,
            "overflow_x": null,
            "grid_auto_flow": null,
            "grid_area": null,
            "grid_template_columns": null,
            "flex": null,
            "_model_name": "LayoutModel",
            "justify_items": null,
            "grid_row": null,
            "max_height": null,
            "align_content": null,
            "visibility": null,
            "align_self": null,
            "height": null,
            "min_height": null,
            "padding": null,
            "grid_auto_rows": null,
            "grid_gap": null,
            "max_width": null,
            "order": null,
            "_view_module_version": "1.2.0",
            "grid_template_areas": null,
            "object_position": null,
            "object_fit": null,
            "grid_auto_columns": null,
            "margin": null,
            "display": null,
            "left": null
          }
        },
        "8dec7c4c42dc4ba3b72fc4f5048b8d1e": {
          "model_module": "@jupyter-widgets/controls",
          "model_name": "FloatProgressModel",
          "state": {
            "_view_name": "ProgressView",
            "style": "IPY_MODEL_e36ad28b0eeb4ef6bb4e6f0f34b40abf",
            "_dom_classes": [],
            "description": "Downloading: 100%",
            "_model_name": "FloatProgressModel",
            "bar_style": "success",
            "max": 895321,
            "_view_module": "@jupyter-widgets/controls",
            "_model_module_version": "1.5.0",
            "value": 895321,
            "_view_count": null,
            "_view_module_version": "1.5.0",
            "orientation": "horizontal",
            "min": 0,
            "description_tooltip": null,
            "_model_module": "@jupyter-widgets/controls",
            "layout": "IPY_MODEL_a787ac4ec3c54d1887b8d4c44a53c5cc"
          }
        },
        "f2db70969ba94482847daef9029f99e9": {
          "model_module": "@jupyter-widgets/controls",
          "model_name": "HTMLModel",
          "state": {
            "_view_name": "HTMLView",
            "style": "IPY_MODEL_2d5acee4b9fd41d68768db859af7e19c",
            "_dom_classes": [],
            "description": "",
            "_model_name": "HTMLModel",
            "placeholder": "​",
            "_view_module": "@jupyter-widgets/controls",
            "_model_module_version": "1.5.0",
            "value": " 895k/895k [00:00&lt;00:00, 1.05MB/s]",
            "_view_count": null,
            "_view_module_version": "1.5.0",
            "description_tooltip": null,
            "_model_module": "@jupyter-widgets/controls",
            "layout": "IPY_MODEL_71c2b22ecf314818b89aa4135a95121d"
          }
        },
        "e36ad28b0eeb4ef6bb4e6f0f34b40abf": {
          "model_module": "@jupyter-widgets/controls",
          "model_name": "ProgressStyleModel",
          "state": {
            "_view_name": "StyleView",
            "_model_name": "ProgressStyleModel",
            "description_width": "initial",
            "_view_module": "@jupyter-widgets/base",
            "_model_module_version": "1.5.0",
            "_view_count": null,
            "_view_module_version": "1.2.0",
            "bar_color": null,
            "_model_module": "@jupyter-widgets/controls"
          }
        },
        "a787ac4ec3c54d1887b8d4c44a53c5cc": {
          "model_module": "@jupyter-widgets/base",
          "model_name": "LayoutModel",
          "state": {
            "_view_name": "LayoutView",
            "grid_template_rows": null,
            "right": null,
            "justify_content": null,
            "_view_module": "@jupyter-widgets/base",
            "overflow": null,
            "_model_module_version": "1.2.0",
            "_view_count": null,
            "flex_flow": null,
            "width": null,
            "min_width": null,
            "border": null,
            "align_items": null,
            "bottom": null,
            "_model_module": "@jupyter-widgets/base",
            "top": null,
            "grid_column": null,
            "overflow_y": null,
            "overflow_x": null,
            "grid_auto_flow": null,
            "grid_area": null,
            "grid_template_columns": null,
            "flex": null,
            "_model_name": "LayoutModel",
            "justify_items": null,
            "grid_row": null,
            "max_height": null,
            "align_content": null,
            "visibility": null,
            "align_self": null,
            "height": null,
            "min_height": null,
            "padding": null,
            "grid_auto_rows": null,
            "grid_gap": null,
            "max_width": null,
            "order": null,
            "_view_module_version": "1.2.0",
            "grid_template_areas": null,
            "object_position": null,
            "object_fit": null,
            "grid_auto_columns": null,
            "margin": null,
            "display": null,
            "left": null
          }
        },
        "2d5acee4b9fd41d68768db859af7e19c": {
          "model_module": "@jupyter-widgets/controls",
          "model_name": "DescriptionStyleModel",
          "state": {
            "_view_name": "StyleView",
            "_model_name": "DescriptionStyleModel",
            "description_width": "",
            "_view_module": "@jupyter-widgets/base",
            "_model_module_version": "1.5.0",
            "_view_count": null,
            "_view_module_version": "1.2.0",
            "_model_module": "@jupyter-widgets/controls"
          }
        },
        "71c2b22ecf314818b89aa4135a95121d": {
          "model_module": "@jupyter-widgets/base",
          "model_name": "LayoutModel",
          "state": {
            "_view_name": "LayoutView",
            "grid_template_rows": null,
            "right": null,
            "justify_content": null,
            "_view_module": "@jupyter-widgets/base",
            "overflow": null,
            "_model_module_version": "1.2.0",
            "_view_count": null,
            "flex_flow": null,
            "width": null,
            "min_width": null,
            "border": null,
            "align_items": null,
            "bottom": null,
            "_model_module": "@jupyter-widgets/base",
            "top": null,
            "grid_column": null,
            "overflow_y": null,
            "overflow_x": null,
            "grid_auto_flow": null,
            "grid_area": null,
            "grid_template_columns": null,
            "flex": null,
            "_model_name": "LayoutModel",
            "justify_items": null,
            "grid_row": null,
            "max_height": null,
            "align_content": null,
            "visibility": null,
            "align_self": null,
            "height": null,
            "min_height": null,
            "padding": null,
            "grid_auto_rows": null,
            "grid_gap": null,
            "max_width": null,
            "order": null,
            "_view_module_version": "1.2.0",
            "grid_template_areas": null,
            "object_position": null,
            "object_fit": null,
            "grid_auto_columns": null,
            "margin": null,
            "display": null,
            "left": null
          }
        },
        "e53a086f85f941779d8f5a3235dc1bd4": {
          "model_module": "@jupyter-widgets/controls",
          "model_name": "HBoxModel",
          "state": {
            "_view_name": "HBoxView",
            "_dom_classes": [],
            "_model_name": "HBoxModel",
            "_view_module": "@jupyter-widgets/controls",
            "_model_module_version": "1.5.0",
            "_view_count": null,
            "_view_module_version": "1.5.0",
            "box_style": "",
            "layout": "IPY_MODEL_ce81c03f036145ac81b7befb7c170e83",
            "_model_module": "@jupyter-widgets/controls",
            "children": [
              "IPY_MODEL_9471345cd37a48ed877c7922c1c3d77a",
              "IPY_MODEL_e354ab71927b4c9ab6b40f57911e41b0"
            ]
          }
        },
        "ce81c03f036145ac81b7befb7c170e83": {
          "model_module": "@jupyter-widgets/base",
          "model_name": "LayoutModel",
          "state": {
            "_view_name": "LayoutView",
            "grid_template_rows": null,
            "right": null,
            "justify_content": null,
            "_view_module": "@jupyter-widgets/base",
            "overflow": null,
            "_model_module_version": "1.2.0",
            "_view_count": null,
            "flex_flow": null,
            "width": null,
            "min_width": null,
            "border": null,
            "align_items": null,
            "bottom": null,
            "_model_module": "@jupyter-widgets/base",
            "top": null,
            "grid_column": null,
            "overflow_y": null,
            "overflow_x": null,
            "grid_auto_flow": null,
            "grid_area": null,
            "grid_template_columns": null,
            "flex": null,
            "_model_name": "LayoutModel",
            "justify_items": null,
            "grid_row": null,
            "max_height": null,
            "align_content": null,
            "visibility": null,
            "align_self": null,
            "height": null,
            "min_height": null,
            "padding": null,
            "grid_auto_rows": null,
            "grid_gap": null,
            "max_width": null,
            "order": null,
            "_view_module_version": "1.2.0",
            "grid_template_areas": null,
            "object_position": null,
            "object_fit": null,
            "grid_auto_columns": null,
            "margin": null,
            "display": null,
            "left": null
          }
        },
        "9471345cd37a48ed877c7922c1c3d77a": {
          "model_module": "@jupyter-widgets/controls",
          "model_name": "FloatProgressModel",
          "state": {
            "_view_name": "ProgressView",
            "style": "IPY_MODEL_c17badd8bf2a4c7f83fefdfd30e420b4",
            "_dom_classes": [],
            "description": "Downloading: 100%",
            "_model_name": "FloatProgressModel",
            "bar_style": "success",
            "max": 1135173,
            "_view_module": "@jupyter-widgets/controls",
            "_model_module_version": "1.5.0",
            "value": 1135173,
            "_view_count": null,
            "_view_module_version": "1.5.0",
            "orientation": "horizontal",
            "min": 0,
            "description_tooltip": null,
            "_model_module": "@jupyter-widgets/controls",
            "layout": "IPY_MODEL_df9349c0b4a94ea1815f3ba6b6cb03fa"
          }
        },
        "e354ab71927b4c9ab6b40f57911e41b0": {
          "model_module": "@jupyter-widgets/controls",
          "model_name": "HTMLModel",
          "state": {
            "_view_name": "HTMLView",
            "style": "IPY_MODEL_35ca57a8c7584f5fa9e536423a9ce2ff",
            "_dom_classes": [],
            "description": "",
            "_model_name": "HTMLModel",
            "placeholder": "​",
            "_view_module": "@jupyter-widgets/controls",
            "_model_module_version": "1.5.0",
            "value": " 1.14M/1.14M [00:01&lt;00:00, 770kB/s]",
            "_view_count": null,
            "_view_module_version": "1.5.0",
            "description_tooltip": null,
            "_model_module": "@jupyter-widgets/controls",
            "layout": "IPY_MODEL_dfb88025d20d4013a2787cd2c9f6ef76"
          }
        },
        "c17badd8bf2a4c7f83fefdfd30e420b4": {
          "model_module": "@jupyter-widgets/controls",
          "model_name": "ProgressStyleModel",
          "state": {
            "_view_name": "StyleView",
            "_model_name": "ProgressStyleModel",
            "description_width": "initial",
            "_view_module": "@jupyter-widgets/base",
            "_model_module_version": "1.5.0",
            "_view_count": null,
            "_view_module_version": "1.2.0",
            "bar_color": null,
            "_model_module": "@jupyter-widgets/controls"
          }
        },
        "df9349c0b4a94ea1815f3ba6b6cb03fa": {
          "model_module": "@jupyter-widgets/base",
          "model_name": "LayoutModel",
          "state": {
            "_view_name": "LayoutView",
            "grid_template_rows": null,
            "right": null,
            "justify_content": null,
            "_view_module": "@jupyter-widgets/base",
            "overflow": null,
            "_model_module_version": "1.2.0",
            "_view_count": null,
            "flex_flow": null,
            "width": null,
            "min_width": null,
            "border": null,
            "align_items": null,
            "bottom": null,
            "_model_module": "@jupyter-widgets/base",
            "top": null,
            "grid_column": null,
            "overflow_y": null,
            "overflow_x": null,
            "grid_auto_flow": null,
            "grid_area": null,
            "grid_template_columns": null,
            "flex": null,
            "_model_name": "LayoutModel",
            "justify_items": null,
            "grid_row": null,
            "max_height": null,
            "align_content": null,
            "visibility": null,
            "align_self": null,
            "height": null,
            "min_height": null,
            "padding": null,
            "grid_auto_rows": null,
            "grid_gap": null,
            "max_width": null,
            "order": null,
            "_view_module_version": "1.2.0",
            "grid_template_areas": null,
            "object_position": null,
            "object_fit": null,
            "grid_auto_columns": null,
            "margin": null,
            "display": null,
            "left": null
          }
        },
        "35ca57a8c7584f5fa9e536423a9ce2ff": {
          "model_module": "@jupyter-widgets/controls",
          "model_name": "DescriptionStyleModel",
          "state": {
            "_view_name": "StyleView",
            "_model_name": "DescriptionStyleModel",
            "description_width": "",
            "_view_module": "@jupyter-widgets/base",
            "_model_module_version": "1.5.0",
            "_view_count": null,
            "_view_module_version": "1.2.0",
            "_model_module": "@jupyter-widgets/controls"
          }
        },
        "dfb88025d20d4013a2787cd2c9f6ef76": {
          "model_module": "@jupyter-widgets/base",
          "model_name": "LayoutModel",
          "state": {
            "_view_name": "LayoutView",
            "grid_template_rows": null,
            "right": null,
            "justify_content": null,
            "_view_module": "@jupyter-widgets/base",
            "overflow": null,
            "_model_module_version": "1.2.0",
            "_view_count": null,
            "flex_flow": null,
            "width": null,
            "min_width": null,
            "border": null,
            "align_items": null,
            "bottom": null,
            "_model_module": "@jupyter-widgets/base",
            "top": null,
            "grid_column": null,
            "overflow_y": null,
            "overflow_x": null,
            "grid_auto_flow": null,
            "grid_area": null,
            "grid_template_columns": null,
            "flex": null,
            "_model_name": "LayoutModel",
            "justify_items": null,
            "grid_row": null,
            "max_height": null,
            "align_content": null,
            "visibility": null,
            "align_self": null,
            "height": null,
            "min_height": null,
            "padding": null,
            "grid_auto_rows": null,
            "grid_gap": null,
            "max_width": null,
            "order": null,
            "_view_module_version": "1.2.0",
            "grid_template_areas": null,
            "object_position": null,
            "object_fit": null,
            "grid_auto_columns": null,
            "margin": null,
            "display": null,
            "left": null
          }
        }
      }
    }
  },
  "cells": [
    {
      "cell_type": "code",
      "metadata": {
        "colab": {
          "base_uri": "https://localhost:8080/"
        },
        "id": "ae-0SCJcly5-",
        "outputId": "663e5309-3244-4dd4-e54c-dcb395bf81f7"
      },
      "source": [
        "!nvidia-smi"
      ],
      "execution_count": null,
      "outputs": [
        {
          "output_type": "stream",
          "text": [
            "Sun Jun 20 04:53:32 2021       \n",
            "+-----------------------------------------------------------------------------+\n",
            "| NVIDIA-SMI 465.27       Driver Version: 460.32.03    CUDA Version: 11.2     |\n",
            "|-------------------------------+----------------------+----------------------+\n",
            "| GPU  Name        Persistence-M| Bus-Id        Disp.A | Volatile Uncorr. ECC |\n",
            "| Fan  Temp  Perf  Pwr:Usage/Cap|         Memory-Usage | GPU-Util  Compute M. |\n",
            "|                               |                      |               MIG M. |\n",
            "|===============================+======================+======================|\n",
            "|   0  Tesla T4            Off  | 00000000:00:04.0 Off |                    0 |\n",
            "| N/A   47C    P8     9W /  70W |      0MiB / 15109MiB |      0%      Default |\n",
            "|                               |                      |                  N/A |\n",
            "+-------------------------------+----------------------+----------------------+\n",
            "                                                                               \n",
            "+-----------------------------------------------------------------------------+\n",
            "| Processes:                                                                  |\n",
            "|  GPU   GI   CI        PID   Type   Process name                  GPU Memory |\n",
            "|        ID   ID                                                   Usage      |\n",
            "|=============================================================================|\n",
            "|  No running processes found                                                 |\n",
            "+-----------------------------------------------------------------------------+\n"
          ],
          "name": "stdout"
        }
      ]
    },
    {
      "cell_type": "code",
      "metadata": {
        "colab": {
          "base_uri": "https://localhost:8080/"
        },
        "id": "wX17V7CfmDAz",
        "outputId": "b039b885-7926-438e-80c8-9c781502eaae"
      },
      "source": [
        "!pip3 install transformers"
      ],
      "execution_count": null,
      "outputs": [
        {
          "output_type": "stream",
          "text": [
            "Collecting transformers\n",
            "\u001b[?25l  Downloading https://files.pythonhosted.org/packages/00/92/6153f4912b84ee1ab53ab45663d23e7cf3704161cb5ef18b0c07e207cef2/transformers-4.7.0-py3-none-any.whl (2.5MB)\n",
            "\u001b[K     |████████████████████████████████| 2.5MB 8.4MB/s \n",
            "\u001b[?25hRequirement already satisfied: packaging in /usr/local/lib/python3.7/dist-packages (from transformers) (20.9)\n",
            "Collecting huggingface-hub==0.0.8\n",
            "  Downloading https://files.pythonhosted.org/packages/a1/88/7b1e45720ecf59c6c6737ff332f41c955963090a18e72acbcbeac6b25e86/huggingface_hub-0.0.8-py3-none-any.whl\n",
            "Requirement already satisfied: requests in /usr/local/lib/python3.7/dist-packages (from transformers) (2.23.0)\n",
            "Requirement already satisfied: regex!=2019.12.17 in /usr/local/lib/python3.7/dist-packages (from transformers) (2019.12.20)\n",
            "Requirement already satisfied: filelock in /usr/local/lib/python3.7/dist-packages (from transformers) (3.0.12)\n",
            "Requirement already satisfied: importlib-metadata; python_version < \"3.8\" in /usr/local/lib/python3.7/dist-packages (from transformers) (4.5.0)\n",
            "Requirement already satisfied: tqdm>=4.27 in /usr/local/lib/python3.7/dist-packages (from transformers) (4.41.1)\n",
            "Requirement already satisfied: numpy>=1.17 in /usr/local/lib/python3.7/dist-packages (from transformers) (1.19.5)\n",
            "Collecting sacremoses\n",
            "\u001b[?25l  Downloading https://files.pythonhosted.org/packages/75/ee/67241dc87f266093c533a2d4d3d69438e57d7a90abb216fa076e7d475d4a/sacremoses-0.0.45-py3-none-any.whl (895kB)\n",
            "\u001b[K     |████████████████████████████████| 901kB 47.5MB/s \n",
            "\u001b[?25hRequirement already satisfied: pyyaml in /usr/local/lib/python3.7/dist-packages (from transformers) (3.13)\n",
            "Collecting tokenizers<0.11,>=0.10.1\n",
            "\u001b[?25l  Downloading https://files.pythonhosted.org/packages/d4/e2/df3543e8ffdab68f5acc73f613de9c2b155ac47f162e725dcac87c521c11/tokenizers-0.10.3-cp37-cp37m-manylinux_2_5_x86_64.manylinux1_x86_64.manylinux_2_12_x86_64.manylinux2010_x86_64.whl (3.3MB)\n",
            "\u001b[K     |████████████████████████████████| 3.3MB 44.5MB/s \n",
            "\u001b[?25hRequirement already satisfied: pyparsing>=2.0.2 in /usr/local/lib/python3.7/dist-packages (from packaging->transformers) (2.4.7)\n",
            "Requirement already satisfied: certifi>=2017.4.17 in /usr/local/lib/python3.7/dist-packages (from requests->transformers) (2021.5.30)\n",
            "Requirement already satisfied: chardet<4,>=3.0.2 in /usr/local/lib/python3.7/dist-packages (from requests->transformers) (3.0.4)\n",
            "Requirement already satisfied: idna<3,>=2.5 in /usr/local/lib/python3.7/dist-packages (from requests->transformers) (2.10)\n",
            "Requirement already satisfied: urllib3!=1.25.0,!=1.25.1,<1.26,>=1.21.1 in /usr/local/lib/python3.7/dist-packages (from requests->transformers) (1.24.3)\n",
            "Requirement already satisfied: zipp>=0.5 in /usr/local/lib/python3.7/dist-packages (from importlib-metadata; python_version < \"3.8\"->transformers) (3.4.1)\n",
            "Requirement already satisfied: typing-extensions>=3.6.4; python_version < \"3.8\" in /usr/local/lib/python3.7/dist-packages (from importlib-metadata; python_version < \"3.8\"->transformers) (3.7.4.3)\n",
            "Requirement already satisfied: joblib in /usr/local/lib/python3.7/dist-packages (from sacremoses->transformers) (1.0.1)\n",
            "Requirement already satisfied: six in /usr/local/lib/python3.7/dist-packages (from sacremoses->transformers) (1.15.0)\n",
            "Requirement already satisfied: click in /usr/local/lib/python3.7/dist-packages (from sacremoses->transformers) (7.1.2)\n",
            "Installing collected packages: huggingface-hub, sacremoses, tokenizers, transformers\n",
            "Successfully installed huggingface-hub-0.0.8 sacremoses-0.0.45 tokenizers-0.10.3 transformers-4.7.0\n"
          ],
          "name": "stdout"
        }
      ]
    },
    {
      "cell_type": "code",
      "metadata": {
        "colab": {
          "base_uri": "https://localhost:8080/"
        },
        "id": "F3SDhm10mE0v",
        "outputId": "cd289654-71aa-41f6-e2b4-15985bceab6d"
      },
      "source": [
        "from google.colab import drive \n",
        "drive.mount('/content/drive')"
      ],
      "execution_count": null,
      "outputs": [
        {
          "output_type": "stream",
          "text": [
            "Mounted at /content/drive\n"
          ],
          "name": "stdout"
        }
      ]
    },
    {
      "cell_type": "code",
      "metadata": {
        "id": "9qMphyTWmLms"
      },
      "source": [
        "import torch \n",
        "from transformers import BertModel,BertConfig,AutoModel,AutoTokenizer,AdamW,get_linear_schedule_with_warmup,get_constant_schedule\n",
        "import pandas as pd \n",
        "import numpy as np \n",
        "from torch.utils.data import Dataset,DataLoader\n",
        "from torch import nn,optim \n",
        "import seaborn as sns \n",
        "import numpy as np \n",
        "from sklearn.model_selection import train_test_split\n",
        "from sklearn.metrics import accuracy_score,classification_report,confusion_matrix\n",
        "# from fairseq.models.roberta import RobertaModel\n",
        "# from fairseq.data.encoders.fastbpe import fastBPE\n",
        "import random\n",
        "import os \n",
        "from matplotlib import pyplot as plt \n",
        "from torch.nn.utils.rnn import pad_sequence\n",
        "import pickle\n",
        "from sklearn.metrics import accuracy_score"
      ],
      "execution_count": null,
      "outputs": []
    },
    {
      "cell_type": "code",
      "metadata": {
        "id": "x1ki98mOmQqN"
      },
      "source": [
        "!cp /content/drive/MyDrive/Viettel3/train_n.csv /content\n",
        "!cp /content/drive/MyDrive/Viettel3/test_n.csv /content"
      ],
      "execution_count": null,
      "outputs": []
    },
    {
      "cell_type": "code",
      "metadata": {
        "id": "m0g-T7D2mR1J"
      },
      "source": [
        "train=pd.read_csv('train_n.csv')\n",
        "test=pd.read_csv('test_n.csv')"
      ],
      "execution_count": null,
      "outputs": []
    },
    {
      "cell_type": "code",
      "execution_count": null,
      "metadata": {},
      "outputs": [],
      "source": [
        "n_samples=len(train)\n",
        "weights[]\n",
        "for i in range(10):\n",
        "    weights.append(len(train[train.label==i]))\n",
        "weights=[np.log10(n_samples/value) for value in weights]\n",
        "weight=torch.tensor(weights)"
      ]
    },
    {
      "cell_type": "code",
      "metadata": {
        "id": "tAdkdthGmS5s",
        "colab": {
          "base_uri": "https://localhost:8080/",
          "height": 301,
          "referenced_widgets": [
            "6eff0557d1864ed6a319d61de3a8a462",
            "2425721fd43246089460212d7dd035e6",
            "d2951c851b874d7c97178354c278901a",
            "d9ad2ad3189b41a79d6b8522ad6c8753",
            "d89fe4ab72444374a9609a08d34703a9",
            "4dbffd1f86194c599e66591aa7e35242",
            "abf11f9c010742d1b5bf6f90228b4684",
            "b981988fc15c4df38095d2ea63f2a12c",
            "a07ac3ff692a406dafda68b9086c8a9c",
            "598b3152f0c04c58afad2e53f88bad29",
            "762dae00b629462ebb6ff4ef8d561baa",
            "bfd3fda8460a4fe9a08a24d197c8fe30",
            "a829370d453c403ab3efd486d6032968",
            "8f77929a99b74902b86f2d3c342116d1",
            "e5d8c4a7548140a6af8aeab4f611ff94",
            "7caf5a2901254c6ba8a710641f677e68",
            "35d4209bdaeb484e8e22f199452f5625",
            "c808574c2a3542b1b8c3738b5f96a5d4",
            "8dec7c4c42dc4ba3b72fc4f5048b8d1e",
            "f2db70969ba94482847daef9029f99e9",
            "e36ad28b0eeb4ef6bb4e6f0f34b40abf",
            "a787ac4ec3c54d1887b8d4c44a53c5cc",
            "2d5acee4b9fd41d68768db859af7e19c",
            "71c2b22ecf314818b89aa4135a95121d",
            "e53a086f85f941779d8f5a3235dc1bd4",
            "ce81c03f036145ac81b7befb7c170e83",
            "9471345cd37a48ed877c7922c1c3d77a",
            "e354ab71927b4c9ab6b40f57911e41b0",
            "c17badd8bf2a4c7f83fefdfd30e420b4",
            "df9349c0b4a94ea1815f3ba6b6cb03fa",
            "35ca57a8c7584f5fa9e536423a9ce2ff",
            "dfb88025d20d4013a2787cd2c9f6ef76"
          ]
        },
        "outputId": "60692945-a847-43f0-ad2b-061b558a42ad"
      },
      "source": [
        "phobert=AutoModel.from_pretrained(\"vinai/phobert-base\")\n",
        "tokenizer=AutoTokenizer.from_pretrained(\"vinai/phobert-base\")"
      ],
      "execution_count": null,
      "outputs": [
        {
          "output_type": "display_data",
          "data": {
            "application/vnd.jupyter.widget-view+json": {
              "model_id": "6eff0557d1864ed6a319d61de3a8a462",
              "version_minor": 0,
              "version_major": 2
            },
            "text/plain": [
              "HBox(children=(FloatProgress(value=0.0, description='Downloading', max=557.0, style=ProgressStyle(description_…"
            ]
          },
          "metadata": {
            "tags": []
          }
        },
        {
          "output_type": "stream",
          "text": [
            "\n"
          ],
          "name": "stdout"
        },
        {
          "output_type": "display_data",
          "data": {
            "application/vnd.jupyter.widget-view+json": {
              "model_id": "a07ac3ff692a406dafda68b9086c8a9c",
              "version_minor": 0,
              "version_major": 2
            },
            "text/plain": [
              "HBox(children=(FloatProgress(value=0.0, description='Downloading', max=542923308.0, style=ProgressStyle(descri…"
            ]
          },
          "metadata": {
            "tags": []
          }
        },
        {
          "output_type": "stream",
          "text": [
            "\n"
          ],
          "name": "stdout"
        },
        {
          "output_type": "stream",
          "text": [
            "Some weights of the model checkpoint at vinai/phobert-base were not used when initializing RobertaModel: ['lm_head.dense.bias', 'lm_head.layer_norm.weight', 'lm_head.bias', 'lm_head.decoder.bias', 'lm_head.decoder.weight', 'lm_head.layer_norm.bias', 'lm_head.dense.weight']\n",
            "- This IS expected if you are initializing RobertaModel from the checkpoint of a model trained on another task or with another architecture (e.g. initializing a BertForSequenceClassification model from a BertForPreTraining model).\n",
            "- This IS NOT expected if you are initializing RobertaModel from the checkpoint of a model that you expect to be exactly identical (initializing a BertForSequenceClassification model from a BertForSequenceClassification model).\n"
          ],
          "name": "stderr"
        },
        {
          "output_type": "display_data",
          "data": {
            "application/vnd.jupyter.widget-view+json": {
              "model_id": "35d4209bdaeb484e8e22f199452f5625",
              "version_minor": 0,
              "version_major": 2
            },
            "text/plain": [
              "HBox(children=(FloatProgress(value=0.0, description='Downloading', max=895321.0, style=ProgressStyle(descripti…"
            ]
          },
          "metadata": {
            "tags": []
          }
        },
        {
          "output_type": "stream",
          "text": [
            "\n"
          ],
          "name": "stdout"
        },
        {
          "output_type": "display_data",
          "data": {
            "application/vnd.jupyter.widget-view+json": {
              "model_id": "e53a086f85f941779d8f5a3235dc1bd4",
              "version_minor": 0,
              "version_major": 2
            },
            "text/plain": [
              "HBox(children=(FloatProgress(value=0.0, description='Downloading', max=1135173.0, style=ProgressStyle(descript…"
            ]
          },
          "metadata": {
            "tags": []
          }
        },
        {
          "output_type": "stream",
          "text": [
            "\n"
          ],
          "name": "stdout"
        },
        {
          "output_type": "stream",
          "text": [
            "Special tokens have been added in the vocabulary, make sure the associated word embeddings are fine-tuned or trained.\n"
          ],
          "name": "stderr"
        }
      ]
    },
    {
      "cell_type": "code",
      "metadata": {
        "id": "y86MTXSemnXU"
      },
      "source": [
        "val=pd.DataFrame()\n",
        "n_classes=len(set(train.label))\n",
        "for i in range(n_classes):\n",
        "    temp=train[train.label==i]\n",
        "    temp=temp.sample(int(len(temp)*0.2))\n",
        "    val=pd.concat([val,temp],axis=0)\n",
        "\n",
        "train=train[~train.index.isin(val.index)]\n",
        "train.to_csv(\"train.csv\",index=False)\n",
        "val.to_csv(\"val.csv\",index=False)"
      ],
      "execution_count": null,
      "outputs": []
    },
    {
      "cell_type": "code",
      "metadata": {
        "id": "YV95nvoRxa_G"
      },
      "source": [
        "!cp /content/train.csv /content/drive/MyDrive/Viettel3/Bert\n",
        "!cp /content/val.csv /content/drive/MyDrive/Viettel3/Bert"
      ],
      "execution_count": null,
      "outputs": []
    },
    {
      "cell_type": "code",
      "metadata": {
        "id": "7P3_2NH3msHU"
      },
      "source": [
        "train=pd.read_csv('train.csv')\n",
        "val=pd.read_csv('val.csv')"
      ],
      "execution_count": null,
      "outputs": []
    },
    {
      "cell_type": "code",
      "metadata": {
        "id": "k9lil4o0mUfz"
      },
      "source": [
        "labels={\n",
        "0:\"Van hoa\",\n",
        "1:\"Chinh tri Xa hoi\",\n",
        "2:\"Khoa hoc\",\n",
        "3:\"Phap luat\",\n",
        "4:\"Vi tinh\",\n",
        "5:\"Suc khoe\",\n",
        "6:\"Kinh doanh\",\n",
        "7:\"The thao\",\n",
        "8:\"The gioi\",\n",
        "9:\"Doi song\"\n",
        "}"
      ],
      "execution_count": null,
      "outputs": []
    },
    {
      "cell_type": "code",
      "metadata": {
        "id": "SE5tDqstmWrS",
        "colab": {
          "base_uri": "https://localhost:8080/"
        },
        "outputId": "f45cbed0-d6e4-4e70-d442-8a2b213a3b99"
      },
      "source": [
        "max_sequence_length=256\n",
        "\n",
        "def encode_data(data):\n",
        "  result=[]\n",
        "  for text in data.text.values:\n",
        "    temp=tokenizer.encode(text)\n",
        "    if len(temp)<max_sequence_length:\n",
        "      temp+=[1]*(max_sequence_length-len(temp))\n",
        "    else:\n",
        "      temp=temp[:max_sequence_length]\n",
        "      temp[-1]=tokenizer.eos_token_id\n",
        "    result.append(temp)\n",
        "  return result\n",
        "\n",
        "train['data']=encode_data(train)\n",
        "test['data']=encode_data(test)\n",
        "val['data']=encode_data(val)"
      ],
      "execution_count": null,
      "outputs": [
        {
          "output_type": "stream",
          "text": [
            "Token indices sequence length is longer than the specified maximum sequence length for this model (325 > 256). Running this sequence through the model will result in indexing errors\n"
          ],
          "name": "stderr"
        }
      ]
    },
    {
      "cell_type": "code",
      "metadata": {
        "id": "Tlil4ewvmXgS"
      },
      "source": [
        "train_dataset_tensor=torch.utils.data.TensorDataset(torch.tensor(train['data'],dtype=torch.long),torch.tensor(train['label'],dtype=torch.long))\n",
        "test_dataset_tensor=torch.utils.data.TensorDataset(torch.tensor(test['data'],dtype=torch.long),torch.tensor(test['label'],dtype=torch.long))\n",
        "val_dataset_tensor=torch.utils.data.TensorDataset(torch.tensor(val['data'],dtype=torch.long),torch.tensor(val['label'],dtype=torch.long))"
      ],
      "execution_count": null,
      "outputs": []
    },
    {
      "cell_type": "code",
      "metadata": {
        "id": "rUTWCHlNmY-0"
      },
      "source": [
        "train_loader=DataLoader(train_dataset_tensor,batch_size=32,shuffle=True)\n",
        "test_loader=DataLoader(test_dataset_tensor,batch_size=32,shuffle=True)\n",
        "val_loader=DataLoader(val_dataset_tensor,batch_size=32,shuffle=True)"
      ],
      "execution_count": null,
      "outputs": []
    },
    {
      "cell_type": "code",
      "metadata": {
        "colab": {
          "base_uri": "https://localhost:8080/"
        },
        "id": "zSif7GIsnRVo",
        "outputId": "f794392d-6600-4cd1-f13a-c8f2e9bed17f"
      },
      "source": [
        "print(len(train_loader))\n",
        "print(len(test_loader))\n",
        "print(len(val_loader))"
      ],
      "execution_count": null,
      "outputs": [
        {
          "output_type": "stream",
          "text": [
            "845\n",
            "1575\n",
            "211\n"
          ],
          "name": "stdout"
        }
      ]
    },
    {
      "cell_type": "code",
      "metadata": {
        "id": "YNas_pOdnVLr"
      },
      "source": [
        "class Model(nn.Module):\n",
        "  def __init__(self,n_classes,drop_prob=0.2):\n",
        "    super(Model,self).__init__()\n",
        "    self.n_classes=n_classes\n",
        "    self.bert=phobert\n",
        "    self.lstm=nn.LSTM(input_size=self.bert.config.hidden_size,\n",
        "                      hidden_size=512,\n",
        "                      batch_first=True,\n",
        "                      num_layers=2,\n",
        "                      bidirectional=True)\n",
        "    self.linear=nn.Sequential(\n",
        "        nn.Linear(512*4,512),\n",
        "        nn.ReLU(),\n",
        "        nn.Dropout(drop_prob),\n",
        "        nn.Linear(512,self.n_classes)\n",
        "    )\n",
        "      \n",
        "  def forward(self,x_batch):\n",
        "    word_embedding = self.bert(x_batch)[0]\n",
        "    lstm_out,_=self.lstm(word_embedding)\n",
        "    avg_hidden=torch.mean(lstm_out,dim=1)\n",
        "    max_hidden,_=torch.max(lstm_out,dim=1)\n",
        "    input_linear=torch.cat((avg_hidden,max_hidden),dim=1)\n",
        "    out=self.linear(input_linear)\n",
        "    return out\n"
      ],
      "execution_count": null,
      "outputs": []
    },
    {
      "cell_type": "code",
      "metadata": {
        "id": "-HqN70y2oSkS"
      },
      "source": [
        "n_epochs=100\n",
        "device=torch.device(\"cuda\" if torch.cuda.is_available() else \"cpu\")\n",
        "num_classes=len(set(train.label))\n",
        "model=Model(num_classes).to(device)\n",
        "optimizer=AdamW(model.parameters(),lr=1e-5)\n",
        "scheduler=get_linear_schedule_with_warmup(\n",
        "    optimizer,\n",
        "    num_warmup_steps=100,\n",
        "    num_training_steps=len(train_loader)*(n_epochs-1)\n",
        ")\n",
        "scheduler_frozen=get_constant_schedule(optimizer)\n",
        "criterion=nn.CrossEntropyLoss(weight=weight)\n",
        "frozen=True"
      ],
      "execution_count": null,
      "outputs": []
    },
    {
      "cell_type": "code",
      "metadata": {
        "id": "D4feX7BfoT33"
      },
      "source": [
        "for child in phobert.children():\n",
        "  for param in child.parameters():\n",
        "    param.requires_grad = False"
      ],
      "execution_count": null,
      "outputs": []
    },
    {
      "cell_type": "code",
      "metadata": {
        "id": "9P8mYHnboVTY"
      },
      "source": [
        "def train_model(model,data_loader,scheduler_model):\n",
        "  print(\"-----------------------Training--------------------------\")\n",
        "  model.train()\n",
        "  loss_train=0\n",
        "  final_preds=[]\n",
        "  final_true=[]\n",
        "  for idx,(x_batch,y_batch) in enumerate(data_loader):    \n",
        "    x_batch=x_batch.to(device)\n",
        "    y_batch=y_batch.to(device)\n",
        "    outputs=model(x_batch)\n",
        "    loss=criterion(outputs,y_batch)\n",
        "    outputs=torch.softmax(outputs,dim=1)\n",
        "    preds=torch.argmax(outputs,dim=1)\n",
        "    final_preds.extend(preds.cpu().numpy().tolist())\n",
        "    final_true.extend(y_batch.cpu().numpy().tolist())\n",
        "    optimizer.zero_grad()\n",
        "    loss.backward()\n",
        "    optimizer.step()\n",
        "    scheduler_model.step()\n",
        "    loss_train+=loss.item()\n",
        "    if idx%100==0:\n",
        "      print(idx,end=' ')\n",
        "  print()  \n",
        "  return accuracy_score(final_true,final_preds),loss_train/len(data_loader)\n",
        "\n",
        "\n",
        "def evaluate(model,data_loader):\n",
        "  print(\"------------------------Evaluate---------------------------\")\n",
        "  model.eval()\n",
        "  loss_val=0\n",
        "  final_preds=[]\n",
        "  final_true=[]\n",
        "  for idx,(x_batch,y_batch) in enumerate(data_loader):\n",
        "    x_batch=x_batch.to(device)\n",
        "    y_batch=y_batch.to(device)\n",
        "    outputs=model(x_batch)\n",
        "    loss=criterion(outputs,y_batch)\n",
        "    outputs=torch.softmax(outputs,dim=1)\n",
        "    preds=torch.argmax(outputs,dim=1)\n",
        "    loss_val+=loss.item()\n",
        "    final_preds.extend(preds.cpu().numpy().tolist())\n",
        "    final_true.extend(y_batch.cpu().numpy().tolist())\n",
        "    if idx%100==0:\n",
        "      print(idx,end=' ')\n",
        "\n",
        "  print()\n",
        "  return accuracy_score(final_true,final_preds),loss_val/len(data_loader)"
      ],
      "execution_count": null,
      "outputs": []
    },
    {
      "cell_type": "code",
      "metadata": {
        "id": "ZMZItk17onqP"
      },
      "source": [
        "def testing(data_loader):\n",
        "  model.eval()\n",
        "  final_preds=[]\n",
        "  final_true=[]\n",
        "  with torch.no_grad():\n",
        "    for idx,(x_batch,y_batch) in enumerate(data_loader):\n",
        "      x_batch=x_batch.to(device)\n",
        "      y_batch=y_batch.to(device)\n",
        "      outputs=model(x_batch)\n",
        "      outputs=torch.softmax(outputs,dim=1)\n",
        "      preds=torch.argmax(outputs,dim=1)\n",
        "      final_preds.extend(preds.cpu().numpy().tolist())\n",
        "      final_true.extend(y_batch.cpu().numpy().tolist())\n",
        "      if idx%100==0:\n",
        "        print(idx,end=' ')\n",
        "  print()\n",
        "  print(\"Accuracy for test:\",accuracy_score(final_true,final_preds))\n",
        "\n",
        "def save_checkpoint(epoch,scheduler_model):\n",
        "  path='/content/drive/MyDrive/Viettel3/Bert'\n",
        "  if os.path.exists(path) is False:\n",
        "    os.mkdir(path)\n",
        "  \n",
        "  with open('/content/drive/MyDrive/Viettel3/Bert/history{}.pickle'.format(epoch),'wb') as file:\n",
        "    pickle.dump(history,file)\n",
        "  \n",
        "  print(\"Save history done\")\n",
        "  model_state={\n",
        "      'model':model.state_dict(),\n",
        "      'optimizer':optimizer.state_dict(),\n",
        "      'scheduler':scheduler_model.state_dict()\n",
        "  }\n",
        "  torch.save(model_state,path+'/model{}.pth'.format(epoch))\n",
        "  print(\"Save model done\")"
      ],
      "execution_count": null,
      "outputs": []
    },
    {
      "cell_type": "code",
      "metadata": {
        "id": "XhpLinXEotMn",
        "colab": {
          "base_uri": "https://localhost:8080/"
        },
        "outputId": "5140306e-5b71-44f2-b1b0-3261eb94896a"
      },
      "source": [
        "from collections import defaultdict\n",
        "import time \n",
        "history=defaultdict(list)\n",
        "for epoch in range(n_epochs):\n",
        "\n",
        "  if epoch > 0 and frozen:\n",
        "    for child in model.bert.children():\n",
        "      for param in child.parameters():\n",
        "        param.requires_grad = False\n",
        "    del scheduler_frozen\n",
        "    torch.cuda.empty_cache()\n",
        "    frozen=False \n",
        "\n",
        "  start_time=time.time()\n",
        "  if frozen:\n",
        "    train_acc,train_loss=train_model(model,train_loader,scheduler_frozen)\n",
        "  else:\n",
        "    train_acc,train_loss=train_model(model,train_loader,scheduler)\n",
        "    \n",
        "  val_acc,val_loss=evaluate(model,val_loader)\n",
        "  print(f\"Epoch {epoch}----Train acc:{train_acc}----Train loss:{train_loss}---Val acc:{val_acc}---Val loss:{val_loss}---Time:{time.time()-start_time}\")\n",
        "  history['train_acc'].append(train_acc)\n",
        "  history['train_loss'].append(train_loss)\n",
        "  history['val_acc'].append(val_acc)\n",
        "  history['val_loss'].append(val_loss)\n",
        "  if epoch!=0 and epoch%4==0:\n",
        "    print(\"--------------Time for testing-----------------\")\n",
        "    testing(test_loader) \n",
        "    save_checkpoint(epoch,scheduler)"
      ],
      "execution_count": null,
      "outputs": [
        {
          "output_type": "stream",
          "text": [
            "-----------------------Training--------------------------\n",
            "0 100 200 300 400 500 600 700 800 \n",
            "------------------------Evaluate---------------------------\n",
            "0 100 200 \n",
            "Epoch 0----Train acc:0.5263586554124093----Train loss:1.3871019316142832---Val acc:0.8070253445975989---Val loss:0.6316838213617768---Time:762.8374083042145\n",
            "-----------------------Training--------------------------\n",
            "0 100 200 300 400 500 600 700 800 \n",
            "------------------------Evaluate---------------------------\n",
            "0 100 200 \n",
            "Epoch 1----Train acc:0.8346660743373315----Train loss:0.5294379874358516---Val acc:0.8584556099006966---Val loss:0.45363199442483804---Time:772.7316536903381\n",
            "-----------------------Training--------------------------\n",
            "0 100 200 300 400 500 600 700 800 \n",
            "------------------------Evaluate---------------------------\n",
            "0 100 200 \n",
            "Epoch 2----Train acc:0.8630238412557382----Train loss:0.42626490940356393---Val acc:0.8747591522157996---Val loss:0.3856176650637134---Time:770.5834412574768\n",
            "-----------------------Training--------------------------\n",
            "0 100 200 300 400 500 600 700 800 \n",
            "------------------------Evaluate---------------------------\n",
            "0 100 200 \n",
            "Epoch 3----Train acc:0.8762401895453872----Train loss:0.3813714180869111---Val acc:0.8762412924262635---Val loss:0.3617914967344835---Time:769.9357645511627\n",
            "-----------------------Training--------------------------\n",
            "0 100 200 300 400 500 600 700 800 \n",
            "------------------------Evaluate---------------------------\n",
            "0 100 200 \n",
            "Epoch 4----Train acc:0.8827187916481564----Train loss:0.3579562691475689---Val acc:0.8867644879205573---Val loss:0.3393446590874997---Time:771.0071210861206\n",
            "--------------Time for testing-----------------\n",
            "0 100 200 300 400 500 600 700 800 900 1000 1100 1200 1300 1400 1500 \n",
            "Accuracy for test: 0.8913108212733012\n",
            "Save history done\n",
            "Save model done\n",
            "-----------------------Training--------------------------\n",
            "0 100 200 300 400 500 600 700 800 \n",
            "------------------------Evaluate---------------------------\n",
            "0 100 200 \n",
            "Epoch 5----Train acc:0.887642529246261----Train loss:0.3403799691320171---Val acc:0.8830591373943976---Val loss:0.3493968960586317---Time:772.0149548053741\n",
            "-----------------------Training--------------------------\n",
            "0 100 200 300 400 500 600 700 800 \n",
            "------------------------Evaluate---------------------------\n",
            "0 100 200 \n",
            "Epoch 6----Train acc:0.8910484229231452----Train loss:0.3209582484757098---Val acc:0.8845412776048615---Val loss:0.3398190525435441---Time:770.7395415306091\n",
            "-----------------------Training--------------------------\n",
            "0 100 200 300 400 500 600 700 800 \n",
            "------------------------Evaluate---------------------------\n",
            "0 100 200 \n",
            "Epoch 7----Train acc:0.8938990078483637----Train loss:0.310514443103202---Val acc:0.8932859048465985---Val loss:0.31057367057173174---Time:770.3691301345825\n",
            "-----------------------Training--------------------------\n",
            "0 100 200 300 400 500 600 700 800 \n",
            "------------------------Evaluate---------------------------\n",
            "0 100 200 \n",
            "Epoch 8----Train acc:0.8997482600325781----Train loss:0.2958871745366669---Val acc:0.8998073217726397---Val loss:0.30181731748001833---Time:771.337345123291\n",
            "--------------Time for testing-----------------\n",
            "0 100 200 300 400 500 600 700 800 900 1000 1100 1200 1300 1400 1500 \n",
            "Accuracy for test: 0.8965914279475116\n",
            "Save history done\n",
            "Save model done\n",
            "-----------------------Training--------------------------\n",
            "0 100 200 300 400 500 600 700 800 \n",
            "------------------------Evaluate---------------------------\n",
            "0 100 200 \n",
            "Epoch 9----Train acc:0.9014141862875759----Train loss:0.2906182430772739---Val acc:0.8995108937305469---Val loss:0.2960971437606484---Time:768.3903141021729\n",
            "-----------------------Training--------------------------\n",
            "0 100 200 300 400 500 600 700 800 \n",
            "------------------------Evaluate---------------------------\n",
            "0 100 200 \n",
            "Epoch 10----Train acc:0.9042277506293499----Train loss:0.28032213877059914---Val acc:0.8958055432043871---Val loss:0.3011614004088239---Time:770.4678966999054\n",
            "-----------------------Training--------------------------\n",
            "0 100 200 300 400 500 600 700 800 \n",
            "------------------------Evaluate---------------------------\n",
            "0 100 200 \n",
            "Epoch 11----Train acc:0.905634532800237----Train loss:0.27566961146582514---Val acc:0.9018823180672891---Val loss:0.2892778009900126---Time:772.2012901306152\n",
            "-----------------------Training--------------------------\n",
            "0 100 200 300 400 500 600 700 800 \n",
            "------------------------Evaluate---------------------------\n",
            "0 100 200 \n",
            "Epoch 12----Train acc:0.9088183029764549----Train loss:0.2642746649007451---Val acc:0.8956573291833407---Val loss:0.30822449903140703---Time:772.1299874782562\n",
            "--------------Time for testing-----------------\n",
            "0 100 200 300 400 500 600 700 800 900 1000 1100 1200 1300 1400 1500 \n",
            "Accuracy for test: 0.8872213288865066\n",
            "Save history done\n",
            "Save model done\n",
            "-----------------------Training--------------------------\n",
            "0 100 200 300 400 500 600 700 800 \n",
            "------------------------Evaluate---------------------------\n",
            "0 100 200 \n",
            "Epoch 13----Train acc:0.9108174144824522----Train loss:0.2577643735190997---Val acc:0.9004001778568252---Val loss:0.2884277635523211---Time:772.1282730102539\n",
            "-----------------------Training--------------------------\n",
            "0 100 200 300 400 500 600 700 800 \n",
            "------------------------Evaluate---------------------------\n",
            "0 100 200 \n",
            "Epoch 14----Train acc:0.9147415963275581----Train loss:0.24989935266151583---Val acc:0.8984733955832221---Val loss:0.30010405751342456---Time:772.7089195251465\n",
            "-----------------------Training--------------------------\n",
            "0 100 200 300 400 500 600 700 800 \n",
            "------------------------Evaluate---------------------------\n",
            "0 100 200 \n",
            "Epoch 15----Train acc:0.9148526580778913----Train loss:0.24528523546219225---Val acc:0.90143767600415---Val loss:0.28456627976555393---Time:773.7811870574951\n",
            "-----------------------Training--------------------------\n",
            "0 100 200 300 400 500 600 700 800 \n",
            "------------------------Evaluate---------------------------\n",
            "0 100 200 \n",
            "Epoch 16----Train acc:0.9182215311713312----Train loss:0.23869782538875145---Val acc:0.90143767600415---Val loss:0.2836140502968106---Time:773.6403183937073\n",
            "--------------Time for testing-----------------\n",
            "0 100 200 300 400 500 600 700 800 900 1000 1100 1200 1300 1400 1500 \n",
            "Accuracy for test: 0.9047307089115201\n",
            "Save history done\n",
            "Save model done\n",
            "-----------------------Training--------------------------\n",
            "0 100 200 300 400 500 600 700 800 \n",
            "------------------------Evaluate---------------------------\n",
            "0 100 200 \n",
            "Epoch 17----Train acc:0.9204057455945506----Train loss:0.23193833055139998---Val acc:0.9036608863198459---Val loss:0.27823226491068775---Time:771.3803753852844\n",
            "-----------------------Training--------------------------\n",
            "0 100 200 300 400 500 600 700 800 \n",
            "------------------------Evaluate---------------------------\n",
            "0 100 200 \n",
            "Epoch 18----Train acc:0.9244039686065453----Train loss:0.22539770349518523---Val acc:0.903364458277753---Val loss:0.2776189153899231---Time:771.4094412326813\n",
            "-----------------------Training--------------------------\n",
            "0 100 200 300 400 500 600 700 800 \n",
            "------------------------Evaluate---------------------------\n",
            "0 100 200 \n",
            "Epoch 19----Train acc:0.9249962979416556----Train loss:0.22243562802319697---Val acc:0.903364458277753---Val loss:0.27366275869980805---Time:770.0066890716553\n",
            "-----------------------Training--------------------------\n",
            "0 100 200 300 400 500 600 700 800 \n",
            "------------------------Evaluate---------------------------\n",
            "0 100 200 \n",
            "Epoch 20----Train acc:0.9247371538575448----Train loss:0.21875311449478715---Val acc:0.9063287386986809---Val loss:0.2764121720929281---Time:771.5453341007233\n",
            "--------------Time for testing-----------------\n",
            "0 100 200 300 400 500 600 700 800 900 1000 1100 1200 1300 1400 1500 \n",
            "Accuracy for test: 0.9016735155738194\n",
            "Save history done\n",
            "Save model done\n",
            "-----------------------Training--------------------------\n",
            "0 100 200 300 400 500 600 700 800 \n",
            "------------------------Evaluate---------------------------\n",
            "0 100 200 \n",
            "Epoch 21----Train acc:0.9260328742780987----Train loss:0.21325227066257296---Val acc:0.9066251667407736---Val loss:0.2771763590062964---Time:770.4267845153809\n",
            "-----------------------Training--------------------------\n",
            "0 100 200 300 400 500 600 700 800 \n",
            "------------------------Evaluate---------------------------\n",
            "0 100 200 \n",
            "Epoch 22----Train acc:0.9274026358655413----Train loss:0.21074445083649201---Val acc:0.9042537424040314---Val loss:0.2819413575409995---Time:768.7434868812561\n",
            "-----------------------Training--------------------------\n",
            "0 100 200 300 400 500 600 700 "
          ],
          "name": "stdout"
        }
      ]
    }
  ]
}